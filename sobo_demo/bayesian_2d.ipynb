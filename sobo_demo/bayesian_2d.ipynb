{
 "cells": [
  {
   "cell_type": "code",
   "execution_count": 1,
   "metadata": {},
   "outputs": [],
   "source": [
    "%matplotlib inline\n",
    "import jax\n",
    "import jax.numpy as jnp\n",
    "from jax import random, vmap\n",
    "import matplotlib.pyplot as plt\n",
    "import numpy as np\n",
    "from optim_process_normal import optim_process\n",
    "import screen"
   ]
  },
  {
   "cell_type": "code",
   "execution_count": 2,
   "metadata": {},
   "outputs": [],
   "source": [
    "constrains = {'x': (-1.5, 4), 'y': (-3, 4)}\n",
    "noise = 1e-3\n",
    "n_init = 3\n",
    "dim = 2"
   ]
  },
  {
   "cell_type": "code",
   "execution_count": 3,
   "metadata": {},
   "outputs": [],
   "source": [
    "def mccormick_function(x, y):\n",
    "    return - (jnp.sin(x + y) + (x - y)**2 - 1.5*x + 2.5*y + 1)\n"
   ]
  },
  {
   "cell_type": "code",
   "execution_count": 4,
   "metadata": {},
   "outputs": [],
   "source": [
    "optimizer_params = optim_process(\n",
    "    mccormick_function,\n",
    "    constrains,\n",
    "    noise,\n",
    "    n_init = n_init,\n",
    "    seed = 42,\n",
    "    dim = dim,\n",
    "    n = 20,\n",
    "    num_steps = 40,\n",
    "    lr = 0.01,\n",
    "    plot_figure = False)"
   ]
  },
  {
   "cell_type": "code",
   "execution_count": 5,
   "metadata": {},
   "outputs": [
    {
     "data": {
      "text/plain": [
       "Array([[ 2.5140038 ,  3.0843563 ],\n",
       "       [ 3.2976508 , -1.5427003 ],\n",
       "       [-0.473567  ,  0.8515792 ],\n",
       "       [-0.09108114, -0.7841182 ],\n",
       "       [ 2.7809396 , -1.9957839 ],\n",
       "       [-1.2090942 , -0.15896463],\n",
       "       [-0.05797768, -0.79514647],\n",
       "       [-0.43350112, -1.9127957 ],\n",
       "       [-0.1889261 , -1.5419067 ],\n",
       "       [-0.45704043, -1.5363624 ],\n",
       "       [-0.7680866 , -1.730983  ],\n",
       "       [-1.155958  , -2.0895188 ],\n",
       "       [-1.5       , -3.        ],\n",
       "       [-1.1947272 , -2.5498595 ],\n",
       "       [ 2.8114624 ,  2.5835357 ],\n",
       "       [-0.2179234 ,  0.91459227],\n",
       "       [-1.3381689 , -1.048213  ],\n",
       "       [ 1.5852652 , -2.2456353 ],\n",
       "       [ 1.4477043 , -0.9538193 ],\n",
       "       [ 1.1667495 ,  3.3163395 ],\n",
       "       [-0.85456526, -0.0107336 ],\n",
       "       [ 1.9327643 ,  3.3734646 ],\n",
       "       [-0.78930634,  2.8926606 ]], dtype=float32)"
      ]
     },
     "execution_count": 5,
     "metadata": {},
     "output_type": "execute_result"
    }
   ],
   "source": [
    "optimizer_params.params_all"
   ]
  },
  {
   "cell_type": "code",
   "execution_count": 6,
   "metadata": {},
   "outputs": [
    {
     "data": {
      "text/plain": [
       "Array([ -4.6326494 , -16.608864  ,  -5.9643846 ,   1.1110446 ,\n",
       "       -15.363153  ,  -2.5394826 ,   1.1108205 ,   1.657496  ,\n",
       "         1.7280426 ,   1.9024324 ,   1.8473754 ,   1.514627  ,\n",
       "         1.02247   ,   1.1790633 ,  -2.5176668 ,  -5.5376234 ,\n",
       "         0.21464717,  -7.070404  ,  -2.6852608 , -11.187635  ,\n",
       "        -2.2057767 ,  -7.781334  , -23.834003  ], dtype=float32)"
      ]
     },
     "execution_count": 6,
     "metadata": {},
     "output_type": "execute_result"
    }
   ],
   "source": [
    "optimizer_params.target_all"
   ]
  },
  {
   "cell_type": "code",
   "execution_count": 7,
   "metadata": {},
   "outputs": [
    {
     "data": {
      "text/plain": [
       "1.9024324417114258"
      ]
     },
     "execution_count": 7,
     "metadata": {},
     "output_type": "execute_result"
    }
   ],
   "source": [
    "optimizer_params.target"
   ]
  },
  {
   "cell_type": "code",
   "execution_count": 8,
   "metadata": {},
   "outputs": [
    {
     "data": {
      "text/plain": [
       "{'x': Array(-0.45704043, dtype=float32), 'y': Array(-1.5363624, dtype=float32)}"
      ]
     },
     "execution_count": 8,
     "metadata": {},
     "output_type": "execute_result"
    }
   ],
   "source": [
    "optimizer_params.params"
   ]
  },
  {
   "cell_type": "code",
   "execution_count": null,
   "metadata": {},
   "outputs": [],
   "source": []
  }
 ],
 "metadata": {
  "kernelspec": {
   "display_name": "maenv",
   "language": "python",
   "name": "python3"
  },
  "language_info": {
   "codemirror_mode": {
    "name": "ipython",
    "version": 3
   },
   "file_extension": ".py",
   "mimetype": "text/x-python",
   "name": "python",
   "nbconvert_exporter": "python",
   "pygments_lexer": "ipython3",
   "version": "3.8.18"
  }
 },
 "nbformat": 4,
 "nbformat_minor": 2
}
