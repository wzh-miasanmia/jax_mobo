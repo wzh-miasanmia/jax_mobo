{
 "cells": [
  {
   "cell_type": "code",
   "execution_count": 1,
   "metadata": {},
   "outputs": [],
   "source": [
    "%matplotlib inline\n",
    "import jax\n",
    "import jax.numpy as jnp\n",
    "from jax import random, vmap\n",
    "import matplotlib.pyplot as plt\n",
    "import numpy as np\n",
    "from optim_process_normal import optim_process\n",
    "import screen"
   ]
  },
  {
   "cell_type": "code",
   "execution_count": 2,
   "metadata": {},
   "outputs": [],
   "source": [
    "constrains = {'x': (-15, -5), 'y': (-3, 3)}\n",
    "noise = 1e-3\n",
    "n_init = 3\n",
    "dim = 2"
   ]
  },
  {
   "cell_type": "code",
   "execution_count": 3,
   "metadata": {},
   "outputs": [],
   "source": [
    "def f(x, y):\n",
    "    term1 = 100 * jnp.sqrt(jnp.abs(y - 0.01 * x**2))\n",
    "    term2 = 0.01 * jnp.abs(x + 10)\n",
    "    return - term1 - term2\n"
   ]
  },
  {
   "cell_type": "code",
   "execution_count": 4,
   "metadata": {},
   "outputs": [],
   "source": [
    "optimizer_params = optim_process(\n",
    "    f,\n",
    "    constrains,\n",
    "    noise,\n",
    "    n_init = n_init,\n",
    "    seed = 42,\n",
    "    dim = dim,\n",
    "    n = 40,\n",
    "    num_steps = 40,\n",
    "    lr = 0.01,\n",
    "    plot_figure = False)"
   ]
  },
  {
   "cell_type": "code",
   "execution_count": 5,
   "metadata": {},
   "outputs": [
    {
     "data": {
      "text/plain": [
       "Array([[ -7.701812  ,   2.2151628 ],\n",
       "       [ -6.2769985 ,  -1.750886  ],\n",
       "       [-13.133759  ,   0.3013537 ],\n",
       "       [ -7.77843   ,   0.9069109 ],\n",
       "       [ -5.        ,   2.2594814 ],\n",
       "       [-15.        ,  -3.        ],\n",
       "       [-15.        ,   3.        ],\n",
       "       [-14.471086  ,  -0.5648267 ],\n",
       "       [-10.170864  ,  -1.3103718 ],\n",
       "       [-11.53395   ,   2.7346582 ],\n",
       "       [ -5.        ,   0.11492944],\n",
       "       [ -8.35277   ,  -2.6326275 ],\n",
       "       [-11.59306   ,   0.51360655],\n",
       "       [-15.        ,   1.5370026 ],\n",
       "       [ -7.060405  ,   0.26802206],\n",
       "       [-13.882374  ,   2.7100754 ],\n",
       "       [-13.489881  ,  -0.40733457],\n",
       "       [ -9.929628  ,  -1.3346937 ],\n",
       "       [         nan,          nan],\n",
       "       [         nan,          nan],\n",
       "       [         nan,          nan],\n",
       "       [         nan,          nan],\n",
       "       [         nan,          nan],\n",
       "       [         nan,          nan],\n",
       "       [         nan,          nan],\n",
       "       [         nan,          nan],\n",
       "       [         nan,          nan],\n",
       "       [         nan,          nan],\n",
       "       [         nan,          nan],\n",
       "       [         nan,          nan],\n",
       "       [         nan,          nan],\n",
       "       [         nan,          nan],\n",
       "       [         nan,          nan],\n",
       "       [         nan,          nan],\n",
       "       [         nan,          nan],\n",
       "       [         nan,          nan],\n",
       "       [         nan,          nan],\n",
       "       [         nan,          nan],\n",
       "       [         nan,          nan],\n",
       "       [         nan,          nan],\n",
       "       [         nan,          nan],\n",
       "       [         nan,          nan],\n",
       "       [         nan,          nan]], dtype=float32)"
      ]
     },
     "execution_count": 5,
     "metadata": {},
     "output_type": "execute_result"
    }
   ],
   "source": [
    "optimizer_params.params_all"
   ]
  },
  {
   "cell_type": "code",
   "execution_count": 6,
   "metadata": {},
   "outputs": [
    {
     "data": {
      "text/plain": [
       "Array([-127.380104, -146.49178 , -119.346146,  -54.965023, -141.80618 ,\n",
       "       -229.17877 ,  -86.65254 , -163.10757 , -153.1303  , -118.52012 ,\n",
       "        -36.801945, -182.50798 ,  -91.14133 ,  -84.48918 ,  -48.036797,\n",
       "        -88.5189  , -149.26971 , -152.3381  ,         nan,         nan,\n",
       "               nan,         nan,         nan,         nan,         nan,\n",
       "               nan,         nan,         nan,         nan,         nan,\n",
       "               nan,         nan,         nan,         nan,         nan,\n",
       "               nan,         nan,         nan,         nan,         nan,\n",
       "               nan,         nan,         nan], dtype=float32)"
      ]
     },
     "execution_count": 6,
     "metadata": {},
     "output_type": "execute_result"
    }
   ],
   "source": [
    "optimizer_params.target_all"
   ]
  },
  {
   "cell_type": "code",
   "execution_count": 7,
   "metadata": {},
   "outputs": [
    {
     "data": {
      "text/plain": [
       "nan"
      ]
     },
     "execution_count": 7,
     "metadata": {},
     "output_type": "execute_result"
    }
   ],
   "source": [
    "optimizer_params.target"
   ]
  },
  {
   "cell_type": "code",
   "execution_count": 8,
   "metadata": {},
   "outputs": [
    {
     "data": {
      "text/plain": [
       "{'x': Array(nan, dtype=float32), 'y': Array(nan, dtype=float32)}"
      ]
     },
     "execution_count": 8,
     "metadata": {},
     "output_type": "execute_result"
    }
   ],
   "source": [
    "optimizer_params.params"
   ]
  }
 ],
 "metadata": {
  "kernelspec": {
   "display_name": "maenv",
   "language": "python",
   "name": "python3"
  },
  "language_info": {
   "codemirror_mode": {
    "name": "ipython",
    "version": 3
   },
   "file_extension": ".py",
   "mimetype": "text/x-python",
   "name": "python",
   "nbconvert_exporter": "python",
   "pygments_lexer": "ipython3",
   "version": "3.8.18"
  }
 },
 "nbformat": 4,
 "nbformat_minor": 2
}
