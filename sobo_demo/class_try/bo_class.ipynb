{
 "cells": [
  {
   "cell_type": "code",
   "execution_count": null,
   "metadata": {},
   "outputs": [],
   "source": [
    "%matplotlib inline\n",
    "import jax\n",
    "import jax.numpy as jnp\n",
    "from jax import random, vmap\n",
    "import matplotlib.pyplot as plt\n",
    "import numpy as np\n",
    "import screen"
   ]
  },
  {
   "cell_type": "code",
   "execution_count": null,
   "metadata": {},
   "outputs": [],
   "source": [
    "constrains = {'X': (-1.0, 2.0)}\n",
    "noise = 1e-3\n",
    "n_init = 3\n",
    "dim = 1\n",
    "\n",
    "# Define your objective function using JAX\n",
    "def f(X, noise=noise):\n",
    "    return -jnp.sin(3 * X) - X**2 + 0.7 * X + noise * random.normal(random.PRNGKey(0), X.shape)"
   ]
  },
  {
   "cell_type": "code",
   "execution_count": null,
   "metadata": {},
   "outputs": [],
   "source": [
    "# Dense grid of points within bounds\n",
    "X = jnp.arange(-1, 2, 0.01).reshape(-1, 1)\n",
    "# Noise-free objective function values at X \n",
    "Y = f(X,0)"
   ]
  },
  {
   "cell_type": "code",
   "execution_count": null,
   "metadata": {},
   "outputs": [],
   "source": [
    "from GP_class import GaussianProcessRegressor\n",
    "gpr = GaussianProcessRegressor()\n",
    "gpr.fit(X_train, Y_train)"
   ]
  }
 ],
 "metadata": {
  "language_info": {
   "name": "python"
  }
 },
 "nbformat": 4,
 "nbformat_minor": 2
}
