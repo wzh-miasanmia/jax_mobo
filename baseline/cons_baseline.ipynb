{
 "cells": [
  {
   "cell_type": "code",
   "execution_count": 1,
   "metadata": {},
   "outputs": [],
   "source": [
    "import glob\n",
    "import h5py\n",
    "import json\n",
    "from tgv_teno5.tgv_postprocessing import get_jaxfluids_results, get_file_list\n",
    "target_folder_name = f\"tgv_teno5/results/tgv\"\n",
    "file = f\"{target_folder_name}/domain/data_*.h5\""
   ]
  },
  {
   "cell_type": "code",
   "execution_count": 2,
   "metadata": {},
   "outputs": [],
   "source": [
    "def calculate_cell_volume(file_path):\n",
    "    with open(file_path, 'r') as file:\n",
    "        data = json.load(file)\n",
    "\n",
    "    x_range = data['domain']['x']['range']\n",
    "    y_range = data['domain']['y']['range']\n",
    "    z_range = data['domain']['z']['range']\n",
    "\n",
    "    cells_x = data['domain']['x']['cells']\n",
    "    cells_y = data['domain']['y']['cells']\n",
    "    cells_z = data['domain']['z']['cells']\n",
    "\n",
    "    cell_length_x = (x_range[1] - x_range[0]) / cells_x\n",
    "    cell_length_y = (y_range[1] - y_range[0]) / cells_y\n",
    "    cell_length_z = (z_range[1] - z_range[0]) / cells_z\n",
    "\n",
    "    cell_volume = cell_length_x * cell_length_y * cell_length_z\n",
    "\n",
    "    return cell_volume\n"
   ]
  },
  {
   "cell_type": "code",
   "execution_count": 3,
   "metadata": {},
   "outputs": [],
   "source": [
    "def calculate_kinetic_energy(file, cell_volume):\n",
    "    file = get_file_list(file)\n",
    "    velocity = get_jaxfluids_results(file,  [\"velocity\"])[\"velocity\"]\n",
    "    velocity_x = velocity['velocity_x']\n",
    "    velocity_y = velocity['velocity_y']\n",
    "    velocity_z = velocity['velocity_z']\n",
    "    print(velocity_z.shape)\n",
    "    density = get_jaxfluids_results(file,  [\"density\"])[\"density\"]\n",
    "    print(density.shape)\n",
    "    kinetic_energy = 0.5 * density * cell_volume * (velocity_x**2 + velocity_y**2 + velocity_z**2) # for 3D tgv\n",
    "    print(kinetic_energy.sum())\n",
    "    return kinetic_energy.sum()"
   ]
  },
  {
   "cell_type": "code",
   "execution_count": 5,
   "metadata": {},
   "outputs": [
    {
     "name": "stdout",
     "output_type": "stream",
     "text": [
      "0.0009462364709564153\n",
      "Load tgv_teno5/results/tgv/domain/data_10.0000948559.h5\n",
      "(64, 64, 64)\n",
      "Load tgv_teno5/results/tgv/domain/data_10.0000948559.h5\n",
      "(64, 64, 64)\n",
      "18.289785674371107\n"
     ]
    }
   ],
   "source": [
    "cell_volume = calculate_cell_volume('tgv_teno5/results/tgv/tgv.json')\n",
    "print(cell_volume)\n",
    "kinetic_energy = calculate_kinetic_energy(file, cell_volume)"
   ]
  },
  {
   "cell_type": "code",
   "execution_count": null,
   "metadata": {},
   "outputs": [],
   "source": []
  }
 ],
 "metadata": {
  "kernelspec": {
   "display_name": "maenv",
   "language": "python",
   "name": "python3"
  },
  "language_info": {
   "codemirror_mode": {
    "name": "ipython",
    "version": 3
   },
   "file_extension": ".py",
   "mimetype": "text/x-python",
   "name": "python",
   "nbconvert_exporter": "python",
   "pygments_lexer": "ipython3",
   "version": "3.8.18"
  }
 },
 "nbformat": 4,
 "nbformat_minor": 2
}
