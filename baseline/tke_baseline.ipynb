{
 "cells": [
  {
   "cell_type": "code",
   "execution_count": 2,
   "metadata": {},
   "outputs": [],
   "source": [
    "import glob\n",
    "import h5py\n",
    "import json\n",
    "from tgv_teno5.tgv_postprocessing import calculate_Rtke_baseline, get_file_list\n",
    "target_folder_name = f\"tgv_teno5/results/tgv\"\n",
    "file = f\"{target_folder_name}/domain/data_*.h5\""
   ]
  },
  {
   "cell_type": "code",
   "execution_count": 3,
   "metadata": {},
   "outputs": [
    {
     "name": "stdout",
     "output_type": "stream",
     "text": [
      "Load tgv_teno5/results/tgv/domain/data_10.0000948559.h5\n",
      "3.0398569829217728\n"
     ]
    }
   ],
   "source": [
    "Rtke_baseline = calculate_Rtke_baseline(file)\n",
    "print(Rtke_baseline)"
   ]
  },
  {
   "cell_type": "code",
   "execution_count": null,
   "metadata": {},
   "outputs": [],
   "source": []
  }
 ],
 "metadata": {
  "kernelspec": {
   "display_name": "maenv",
   "language": "python",
   "name": "python3"
  },
  "language_info": {
   "codemirror_mode": {
    "name": "ipython",
    "version": 3
   },
   "file_extension": ".py",
   "mimetype": "text/x-python",
   "name": "python",
   "nbconvert_exporter": "python",
   "pygments_lexer": "ipython3",
   "version": "3.8.18"
  }
 },
 "nbformat": 4,
 "nbformat_minor": 2
}
