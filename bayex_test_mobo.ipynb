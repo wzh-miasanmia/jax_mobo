{
 "cells": [
  {
   "cell_type": "markdown",
   "metadata": {},
   "source": [
    "test mo-bayesian"
   ]
  },
  {
   "cell_type": "code",
   "execution_count": 1,
   "metadata": {},
   "outputs": [
    {
     "name": "stderr",
     "output_type": "stream",
     "text": [
      "WARNING: All log messages before absl::InitializeLog() is called are written to STDERR\n",
      "I0000 00:00:1702339010.781725       1 tfrt_cpu_pjrt_client.cc:349] TfrtCpuClient created.\n"
     ]
    },
    {
     "ename": "NonConcreteBooleanIndexError",
     "evalue": "Array boolean indices must be concrete; got ShapedArray(bool[25])\n\nSee https://jax.readthedocs.io/en/latest/errors.html#jax.errors.NonConcreteBooleanIndexError",
     "output_type": "error",
     "traceback": [
      "\u001b[0;31m---------------------------------------------------------------------------\u001b[0m",
      "\u001b[0;31mNonConcreteBooleanIndexError\u001b[0m              Traceback (most recent call last)",
      "\u001b[1;32m/Users/wzh-miasanmia/Desktop/TUM_course/Masterarbeit/jax_mobo/bayex_test_mobo.ipynb Cell 2\u001b[0m line \u001b[0;36m6\n\u001b[1;32m      <a href='vscode-notebook-cell:/Users/wzh-miasanmia/Desktop/TUM_course/Masterarbeit/jax_mobo/bayex_test_mobo.ipynb#W3sZmlsZQ%3D%3D?line=2'>3</a>\u001b[0m \u001b[39mfrom\u001b[39;00m \u001b[39mmobo_jax\u001b[39;00m\u001b[39m.\u001b[39;00m\u001b[39mtest_function_mobo\u001b[39;00m \u001b[39mimport\u001b[39;00m schaffer_function_n1_multiobjective\n\u001b[1;32m      <a href='vscode-notebook-cell:/Users/wzh-miasanmia/Desktop/TUM_course/Masterarbeit/jax_mobo/bayex_test_mobo.ipynb#W3sZmlsZQ%3D%3D?line=4'>5</a>\u001b[0m constraints \u001b[39m=\u001b[39m {\u001b[39m'\u001b[39m\u001b[39mx\u001b[39m\u001b[39m'\u001b[39m: (\u001b[39m-\u001b[39m\u001b[39m10\u001b[39m, \u001b[39m10\u001b[39m)}\n\u001b[0;32m----> <a href='vscode-notebook-cell:/Users/wzh-miasanmia/Desktop/TUM_course/Masterarbeit/jax_mobo/bayex_test_mobo.ipynb#W3sZmlsZQ%3D%3D?line=5'>6</a>\u001b[0m pareto \u001b[39m=\u001b[39m mobo_jax\u001b[39m.\u001b[39;49moptim(schaffer_function_n1_multiobjective, constraints\u001b[39m=\u001b[39;49mconstraints, seed\u001b[39m=\u001b[39;49m\u001b[39m42\u001b[39;49m, n\u001b[39m=\u001b[39;49m\u001b[39m20\u001b[39;49m)\n",
      "File \u001b[0;32m~/Desktop/TUM_course/Masterarbeit/jax_mobo/mobo_jax/optim.py:218\u001b[0m, in \u001b[0;36moptim\u001b[0;34m(f_multi, constraints, seed, n_init, n, ctypes, acq, **acq_params)\u001b[0m\n\u001b[1;32m    213\u001b[0m     params, momentums, scales \u001b[39m=\u001b[39m train(\n\u001b[1;32m    214\u001b[0m         x\u001b[39m=\u001b[39mX, y\u001b[39m=\u001b[39mY_multi[:,d], params\u001b[39m=\u001b[39mparams_list[d], momentums\u001b[39m=\u001b[39mmomentums_list[d], scales\u001b[39m=\u001b[39mscales_list[d], dtypes\u001b[39m=\u001b[39mdtypes) \n\u001b[1;32m    215\u001b[0m     params_list[d], momentums_list[d], scales_list[d] \u001b[39m=\u001b[39m params, momentums, scales\n\u001b[0;32m--> 218\u001b[0m max_params, key \u001b[39m=\u001b[39m suggest_next(key, params_list, X, Y_multi, bounds, dtypes, _acq, ref_point)\n\u001b[1;32m    219\u001b[0m X \u001b[39m=\u001b[39m X\u001b[39m.\u001b[39mat[idx, \u001b[39m.\u001b[39m\u001b[39m.\u001b[39m\u001b[39m.\u001b[39m]\u001b[39m.\u001b[39mset(max_params)\n\u001b[1;32m    220\u001b[0m Y_multi \u001b[39m=\u001b[39m Y_multi\u001b[39m.\u001b[39mat[idx]\u001b[39m.\u001b[39mset(f_multi(\u001b[39m*\u001b[39mmax_params))\n",
      "File \u001b[0;32m~/Desktop/TUM_course/Masterarbeit/jax_mobo/mobo_jax/optim.py:86\u001b[0m, in \u001b[0;36msuggest_next\u001b[0;34m(key, params_list, x, y, bounds, dtypes, acq, ref_point, n_seed, lr, n_epochs)\u001b[0m\n\u001b[1;32m     83\u001b[0m J \u001b[39m=\u001b[39m jacobian(\u001b[39mlambda\u001b[39;00m x: _acq(x\u001b[39m.\u001b[39mreshape(\u001b[39m-\u001b[39m\u001b[39m1\u001b[39m, dim))\u001b[39m.\u001b[39mreshape())\n\u001b[1;32m     84\u001b[0m HS \u001b[39m=\u001b[39m vmap(\u001b[39mlambda\u001b[39;00m x: x \u001b[39m+\u001b[39m lr \u001b[39m*\u001b[39m J(x))\n\u001b[0;32m---> 86\u001b[0m domain \u001b[39m=\u001b[39m lax\u001b[39m.\u001b[39;49mfori_loop(\u001b[39m0\u001b[39;49m, n_epochs, \u001b[39mlambda\u001b[39;49;00m _, d: HS(d), domain)\n\u001b[1;32m     87\u001b[0m domain \u001b[39m=\u001b[39m jnp\u001b[39m.\u001b[39mclip(\n\u001b[1;32m     88\u001b[0m     domain\u001b[39m.\u001b[39mreshape(\u001b[39m-\u001b[39m\u001b[39m1\u001b[39m, dim), a_min\u001b[39m=\u001b[39mbounds[:, \u001b[39m0\u001b[39m], a_max\u001b[39m=\u001b[39mbounds[:, \u001b[39m1\u001b[39m]\n\u001b[1;32m     89\u001b[0m )\n\u001b[1;32m     90\u001b[0m domain \u001b[39m=\u001b[39m replace_nan_values(domain)\n",
      "    \u001b[0;31m[... skipping hidden 12 frame]\u001b[0m\n",
      "File \u001b[0;32m~/Desktop/TUM_course/Masterarbeit/jax_mobo/mobo_jax/optim.py:86\u001b[0m, in \u001b[0;36msuggest_next.<locals>.<lambda>\u001b[0;34m(_, d)\u001b[0m\n\u001b[1;32m     83\u001b[0m J \u001b[39m=\u001b[39m jacobian(\u001b[39mlambda\u001b[39;00m x: _acq(x\u001b[39m.\u001b[39mreshape(\u001b[39m-\u001b[39m\u001b[39m1\u001b[39m, dim))\u001b[39m.\u001b[39mreshape())\n\u001b[1;32m     84\u001b[0m HS \u001b[39m=\u001b[39m vmap(\u001b[39mlambda\u001b[39;00m x: x \u001b[39m+\u001b[39m lr \u001b[39m*\u001b[39m J(x))\n\u001b[0;32m---> 86\u001b[0m domain \u001b[39m=\u001b[39m lax\u001b[39m.\u001b[39mfori_loop(\u001b[39m0\u001b[39m, n_epochs, \u001b[39mlambda\u001b[39;00m _, d: HS(d), domain)\n\u001b[1;32m     87\u001b[0m domain \u001b[39m=\u001b[39m jnp\u001b[39m.\u001b[39mclip(\n\u001b[1;32m     88\u001b[0m     domain\u001b[39m.\u001b[39mreshape(\u001b[39m-\u001b[39m\u001b[39m1\u001b[39m, dim), a_min\u001b[39m=\u001b[39mbounds[:, \u001b[39m0\u001b[39m], a_max\u001b[39m=\u001b[39mbounds[:, \u001b[39m1\u001b[39m]\n\u001b[1;32m     89\u001b[0m )\n\u001b[1;32m     90\u001b[0m domain \u001b[39m=\u001b[39m replace_nan_values(domain)\n",
      "    \u001b[0;31m[... skipping hidden 3 frame]\u001b[0m\n",
      "File \u001b[0;32m~/Desktop/TUM_course/Masterarbeit/jax_mobo/mobo_jax/optim.py:84\u001b[0m, in \u001b[0;36msuggest_next.<locals>.<lambda>\u001b[0;34m(x)\u001b[0m\n\u001b[1;32m     81\u001b[0m _acq \u001b[39m=\u001b[39m partial(acq, params_list\u001b[39m=\u001b[39mparams_list, x\u001b[39m=\u001b[39mx, y_multi\u001b[39m=\u001b[39my, dtypes\u001b[39m=\u001b[39mdtypes, ref_point\u001b[39m=\u001b[39mref_point)\n\u001b[1;32m     83\u001b[0m J \u001b[39m=\u001b[39m jacobian(\u001b[39mlambda\u001b[39;00m x: _acq(x\u001b[39m.\u001b[39mreshape(\u001b[39m-\u001b[39m\u001b[39m1\u001b[39m, dim))\u001b[39m.\u001b[39mreshape())\n\u001b[0;32m---> 84\u001b[0m HS \u001b[39m=\u001b[39m vmap(\u001b[39mlambda\u001b[39;00m x: x \u001b[39m+\u001b[39m lr \u001b[39m*\u001b[39m J(x))\n\u001b[1;32m     86\u001b[0m domain \u001b[39m=\u001b[39m lax\u001b[39m.\u001b[39mfori_loop(\u001b[39m0\u001b[39m, n_epochs, \u001b[39mlambda\u001b[39;00m _, d: HS(d), domain)\n\u001b[1;32m     87\u001b[0m domain \u001b[39m=\u001b[39m jnp\u001b[39m.\u001b[39mclip(\n\u001b[1;32m     88\u001b[0m     domain\u001b[39m.\u001b[39mreshape(\u001b[39m-\u001b[39m\u001b[39m1\u001b[39m, dim), a_min\u001b[39m=\u001b[39mbounds[:, \u001b[39m0\u001b[39m], a_max\u001b[39m=\u001b[39mbounds[:, \u001b[39m1\u001b[39m]\n\u001b[1;32m     89\u001b[0m )\n",
      "    \u001b[0;31m[... skipping hidden 7 frame]\u001b[0m\n",
      "File \u001b[0;32m~/Desktop/TUM_course/Masterarbeit/jax_mobo/mobo_jax/optim.py:83\u001b[0m, in \u001b[0;36msuggest_next.<locals>.<lambda>\u001b[0;34m(x)\u001b[0m\n\u001b[1;32m     77\u001b[0m domain \u001b[39m=\u001b[39m random\u001b[39m.\u001b[39muniform(\n\u001b[1;32m     78\u001b[0m     key1, shape\u001b[39m=\u001b[39m(n_seed, dim), minval\u001b[39m=\u001b[39mbounds[:, \u001b[39m0\u001b[39m], maxval\u001b[39m=\u001b[39mbounds[:, \u001b[39m1\u001b[39m]\n\u001b[1;32m     79\u001b[0m )\n\u001b[1;32m     81\u001b[0m _acq \u001b[39m=\u001b[39m partial(acq, params_list\u001b[39m=\u001b[39mparams_list, x\u001b[39m=\u001b[39mx, y_multi\u001b[39m=\u001b[39my, dtypes\u001b[39m=\u001b[39mdtypes, ref_point\u001b[39m=\u001b[39mref_point)\n\u001b[0;32m---> 83\u001b[0m J \u001b[39m=\u001b[39m jacobian(\u001b[39mlambda\u001b[39;00m x: _acq(x\u001b[39m.\u001b[39;49mreshape(\u001b[39m-\u001b[39;49m\u001b[39m1\u001b[39;49m, dim))\u001b[39m.\u001b[39mreshape())\n\u001b[1;32m     84\u001b[0m HS \u001b[39m=\u001b[39m vmap(\u001b[39mlambda\u001b[39;00m x: x \u001b[39m+\u001b[39m lr \u001b[39m*\u001b[39m J(x))\n\u001b[1;32m     86\u001b[0m domain \u001b[39m=\u001b[39m lax\u001b[39m.\u001b[39mfori_loop(\u001b[39m0\u001b[39m, n_epochs, \u001b[39mlambda\u001b[39;00m _, d: HS(d), domain)\n",
      "File \u001b[0;32m~/Desktop/TUM_course/Masterarbeit/jax_mobo/mobo_jax/acq.py:113\u001b[0m, in \u001b[0;36mexpected_HV_improvement\u001b[0;34m(x_pred, params_list, x, y_multi, dtypes, ref_point)\u001b[0m\n\u001b[1;32m    111\u001b[0m previous_points \u001b[39m=\u001b[39m jnp\u001b[39m.\u001b[39mcolumn_stack(mu_sample_list)\n\u001b[1;32m    112\u001b[0m previous_pareto_mask \u001b[39m=\u001b[39m is_non_dominated_np(previous_points)\n\u001b[0;32m--> 113\u001b[0m previous_pareto \u001b[39m=\u001b[39m previous_points[previous_pareto_mask]\n\u001b[1;32m    114\u001b[0m HV_previous \u001b[39m=\u001b[39m HV\u001b[39m.\u001b[39mcompute(previous_pareto)\n\u001b[1;32m    116\u001b[0m \u001b[39m# new pareto and hypervolume\u001b[39;00m\n",
      "File \u001b[0;32m/Applications/anaconda3/envs/maenv/lib/python3.9/site-packages/jax/_src/numpy/array_methods.py:728\u001b[0m, in \u001b[0;36m_forward_operator_to_aval.<locals>.op\u001b[0;34m(self, *args)\u001b[0m\n\u001b[1;32m    727\u001b[0m \u001b[39mdef\u001b[39;00m \u001b[39mop\u001b[39m(\u001b[39mself\u001b[39m, \u001b[39m*\u001b[39margs):\n\u001b[0;32m--> 728\u001b[0m   \u001b[39mreturn\u001b[39;00m \u001b[39mgetattr\u001b[39;49m(\u001b[39mself\u001b[39;49m\u001b[39m.\u001b[39;49maval, \u001b[39mf\u001b[39;49m\u001b[39m\"\u001b[39;49m\u001b[39m_\u001b[39;49m\u001b[39m{\u001b[39;49;00mname\u001b[39m}\u001b[39;49;00m\u001b[39m\"\u001b[39;49m)(\u001b[39mself\u001b[39;49m, \u001b[39m*\u001b[39;49margs)\n",
      "File \u001b[0;32m/Applications/anaconda3/envs/maenv/lib/python3.9/site-packages/jax/_src/numpy/array_methods.py:341\u001b[0m, in \u001b[0;36m_getitem\u001b[0;34m(self, item)\u001b[0m\n\u001b[1;32m    340\u001b[0m \u001b[39mdef\u001b[39;00m \u001b[39m_getitem\u001b[39m(\u001b[39mself\u001b[39m, item):\n\u001b[0;32m--> 341\u001b[0m   \u001b[39mreturn\u001b[39;00m lax_numpy\u001b[39m.\u001b[39;49m_rewriting_take(\u001b[39mself\u001b[39;49m, item)\n",
      "File \u001b[0;32m/Applications/anaconda3/envs/maenv/lib/python3.9/site-packages/jax/_src/numpy/lax_numpy.py:4290\u001b[0m, in \u001b[0;36m_rewriting_take\u001b[0;34m(arr, idx, indices_are_sorted, unique_indices, mode, fill_value)\u001b[0m\n\u001b[1;32m   4284\u001b[0m     \u001b[39mif\u001b[39;00m (\u001b[39misinstance\u001b[39m(aval, core\u001b[39m.\u001b[39mDShapedArray) \u001b[39mand\u001b[39;00m aval\u001b[39m.\u001b[39mshape \u001b[39m==\u001b[39m () \u001b[39mand\u001b[39;00m\n\u001b[1;32m   4285\u001b[0m         dtypes\u001b[39m.\u001b[39missubdtype(aval\u001b[39m.\u001b[39mdtype, np\u001b[39m.\u001b[39minteger) \u001b[39mand\u001b[39;00m\n\u001b[1;32m   4286\u001b[0m         \u001b[39mnot\u001b[39;00m dtypes\u001b[39m.\u001b[39missubdtype(aval\u001b[39m.\u001b[39mdtype, dtypes\u001b[39m.\u001b[39mbool_) \u001b[39mand\u001b[39;00m\n\u001b[1;32m   4287\u001b[0m         \u001b[39misinstance\u001b[39m(arr\u001b[39m.\u001b[39mshape[\u001b[39m0\u001b[39m], \u001b[39mint\u001b[39m)):\n\u001b[1;32m   4288\u001b[0m       \u001b[39mreturn\u001b[39;00m lax\u001b[39m.\u001b[39mdynamic_index_in_dim(arr, idx, keepdims\u001b[39m=\u001b[39m\u001b[39mFalse\u001b[39;00m)\n\u001b[0;32m-> 4290\u001b[0m treedef, static_idx, dynamic_idx \u001b[39m=\u001b[39m _split_index_for_jit(idx, arr\u001b[39m.\u001b[39;49mshape)\n\u001b[1;32m   4291\u001b[0m \u001b[39mreturn\u001b[39;00m _gather(arr, treedef, static_idx, dynamic_idx, indices_are_sorted,\n\u001b[1;32m   4292\u001b[0m                unique_indices, mode, fill_value)\n",
      "File \u001b[0;32m/Applications/anaconda3/envs/maenv/lib/python3.9/site-packages/jax/_src/numpy/lax_numpy.py:4368\u001b[0m, in \u001b[0;36m_split_index_for_jit\u001b[0;34m(idx, shape)\u001b[0m\n\u001b[1;32m   4364\u001b[0m   \u001b[39mraise\u001b[39;00m \u001b[39mTypeError\u001b[39;00m(\u001b[39mf\u001b[39m\u001b[39m\"\u001b[39m\u001b[39mJAX does not support string indexing; got \u001b[39m\u001b[39m{\u001b[39;00midx\u001b[39m=}\u001b[39;00m\u001b[39m\"\u001b[39m)\n\u001b[1;32m   4366\u001b[0m \u001b[39m# Expand any (concrete) boolean indices. We can then use advanced integer\u001b[39;00m\n\u001b[1;32m   4367\u001b[0m \u001b[39m# indexing logic to handle them.\u001b[39;00m\n\u001b[0;32m-> 4368\u001b[0m idx \u001b[39m=\u001b[39m _expand_bool_indices(idx, shape)\n\u001b[1;32m   4370\u001b[0m leaves, treedef \u001b[39m=\u001b[39m tree_flatten(idx)\n\u001b[1;32m   4371\u001b[0m dynamic \u001b[39m=\u001b[39m [\u001b[39mNone\u001b[39;00m] \u001b[39m*\u001b[39m \u001b[39mlen\u001b[39m(leaves)\n",
      "File \u001b[0;32m/Applications/anaconda3/envs/maenv/lib/python3.9/site-packages/jax/_src/numpy/lax_numpy.py:4682\u001b[0m, in \u001b[0;36m_expand_bool_indices\u001b[0;34m(idx, shape)\u001b[0m\n\u001b[1;32m   4678\u001b[0m   abstract_i \u001b[39m=\u001b[39m core\u001b[39m.\u001b[39mget_aval(i)\n\u001b[1;32m   4680\u001b[0m \u001b[39mif\u001b[39;00m \u001b[39mnot\u001b[39;00m \u001b[39mtype\u001b[39m(abstract_i) \u001b[39mis\u001b[39;00m ConcreteArray:\n\u001b[1;32m   4681\u001b[0m   \u001b[39m# TODO(mattjj): improve this error by tracking _why_ the indices are not concrete\u001b[39;00m\n\u001b[0;32m-> 4682\u001b[0m   \u001b[39mraise\u001b[39;00m errors\u001b[39m.\u001b[39mNonConcreteBooleanIndexError(abstract_i)\n\u001b[1;32m   4683\u001b[0m \u001b[39melif\u001b[39;00m _ndim(i) \u001b[39m==\u001b[39m \u001b[39m0\u001b[39m:\n\u001b[1;32m   4684\u001b[0m   \u001b[39mraise\u001b[39;00m \u001b[39mTypeError\u001b[39;00m(\u001b[39m\"\u001b[39m\u001b[39mJAX arrays do not support boolean scalar indices\u001b[39m\u001b[39m\"\u001b[39m)\n",
      "\u001b[0;31mNonConcreteBooleanIndexError\u001b[0m: Array boolean indices must be concrete; got ShapedArray(bool[25])\n\nSee https://jax.readthedocs.io/en/latest/errors.html#jax.errors.NonConcreteBooleanIndexError"
     ]
    }
   ],
   "source": [
    "import mobo_jax\n",
    "import jax.numpy as jnp\n",
    "from mobo_jax.test_function_mobo import schaffer_function_n1_multiobjective\n",
    "\n",
    "constraints = {'x': (-10, 10)}\n",
    "pareto = mobo_jax.optim(schaffer_function_n1_multiobjective, constraints=constraints, seed=42, n=20)\n",
    "\n"
   ]
  }
 ],
 "metadata": {
  "kernelspec": {
   "display_name": "maenv",
   "language": "python",
   "name": "python3"
  },
  "language_info": {
   "codemirror_mode": {
    "name": "ipython",
    "version": 3
   },
   "file_extension": ".py",
   "mimetype": "text/x-python",
   "name": "python",
   "nbconvert_exporter": "python",
   "pygments_lexer": "ipython3",
   "version": "3.9.18"
  }
 },
 "nbformat": 4,
 "nbformat_minor": 2
}
