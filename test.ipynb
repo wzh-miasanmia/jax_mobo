{
 "cells": [
  {
   "cell_type": "markdown",
   "metadata": {},
   "source": [
    "a test for optimization of teno6 scheme in TGV case"
   ]
  },
  {
   "cell_type": "code",
   "execution_count": null,
   "metadata": {},
   "outputs": [],
   "source": [
    "from optim_process_sobo import optim_process\n",
    "# initialization for scheme\n",
    "SCHEME = \"teno6\"\n",
    "scheme_setup = {\n",
    "    \"teno6\": {\n",
    "        \"para1_name\": \"C\",\n",
    "        \"para1_range\": [1, 100],\n",
    "        \"para2_name\": \"q\",\n",
    "        \"para2_range\": [1, 6],\n",
    "    },\n",
    "}\n",
    "# optim initialization\n",
    "noise = 1e-3\n",
    "n_init = 5\n",
    "n_iter = 20\n",
    "optimizer_params = optim_process(scheme_setup, noise, SCHEME, n_init=n_init, n_iter=n_iter, normalization=False, DEBUG=False)"
   ]
  },
  {
   "cell_type": "code",
   "execution_count": null,
   "metadata": {},
   "outputs": [],
   "source": [
    "optimizer_params.target"
   ]
  },
  {
   "cell_type": "code",
   "execution_count": null,
   "metadata": {},
   "outputs": [],
   "source": [
    "optimizer_params.params"
   ]
  },
  {
   "cell_type": "code",
   "execution_count": null,
   "metadata": {},
   "outputs": [],
   "source": [
    "from plot_result import plot2d\n",
    "plot2d(optimizer_params, n_init=n_init, n_iter=n_iter)"
   ]
  },
  {
   "cell_type": "code",
   "execution_count": null,
   "metadata": {},
   "outputs": [],
   "source": [
    "optimizer_params.params_all"
   ]
  },
  {
   "cell_type": "code",
   "execution_count": null,
   "metadata": {},
   "outputs": [],
   "source": []
  }
 ],
 "metadata": {
  "kernelspec": {
   "display_name": "maenv",
   "language": "python",
   "name": "python3"
  },
  "language_info": {
   "codemirror_mode": {
    "name": "ipython",
    "version": 3
   },
   "file_extension": ".py",
   "mimetype": "text/x-python",
   "name": "python",
   "nbconvert_exporter": "python",
   "pygments_lexer": "ipython3",
   "version": "3.8.18"
  }
 },
 "nbformat": 4,
 "nbformat_minor": 2
}
