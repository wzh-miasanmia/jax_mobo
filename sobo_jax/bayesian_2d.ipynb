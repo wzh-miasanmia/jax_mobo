{
 "cells": [
  {
   "cell_type": "code",
   "execution_count": 1,
   "metadata": {},
   "outputs": [],
   "source": [
    "%matplotlib inline\n",
    "import jax\n",
    "import jax.numpy as jnp\n",
    "from jax import random, vmap\n",
    "import matplotlib.pyplot as plt\n",
    "import numpy as np\n",
    "from optim_process import optim_process\n",
    "from optim_process_normal import optim_process\n",
    "import screen"
   ]
  },
  {
   "cell_type": "code",
   "execution_count": 2,
   "metadata": {},
   "outputs": [],
   "source": [
    "constrains = {'x': (-1.5, 4), 'y': (-3, 4)}\n",
    "noise = 1e-3\n",
    "n_init = 3\n",
    "dim = 2"
   ]
  },
  {
   "cell_type": "code",
   "execution_count": 3,
   "metadata": {},
   "outputs": [],
   "source": [
    "def mccormick_function(x, y):\n",
    "    return - (jnp.sin(x + y) + (x - y)**2 - 1.5*x + 2.5*y + 1)\n"
   ]
  },
  {
   "cell_type": "code",
   "execution_count": 4,
   "metadata": {},
   "outputs": [],
   "source": [
    "optimizer_params = optim_process(\n",
    "    mccormick_function,\n",
    "    constrains,\n",
    "    noise,\n",
    "    n_init = n_init,\n",
    "    seed = 42,\n",
    "    dim = dim,\n",
    "    n = 20,\n",
    "    num_steps = 40,\n",
    "    lr = 0.01,\n",
    "    plot_figure = False)"
   ]
  },
  {
   "cell_type": "code",
   "execution_count": 5,
   "metadata": {},
   "outputs": [
    {
     "data": {
      "text/plain": [
       "Array([[ 2.5140038 ,  3.0843563 ],\n",
       "       [ 3.2976508 , -1.5427003 ],\n",
       "       [-0.473567  ,  0.8515792 ],\n",
       "       [ 1.0300272 , -2.6895366 ],\n",
       "       [ 2.7809396 , -1.9957839 ],\n",
       "       [-0.4631698 ,  3.1438532 ],\n",
       "       [-1.4902545 , -2.2390788 ],\n",
       "       [-1.2131717 , -2.7710462 ],\n",
       "       [ 3.3501377 , -0.45842218],\n",
       "       [-1.5       , -2.5539598 ],\n",
       "       [-1.5       , -1.6547174 ],\n",
       "       [ 4.        ,  2.0101843 ],\n",
       "       [ 0.32948816,  3.0734549 ],\n",
       "       [ 1.5143872 ,  0.69158536],\n",
       "       [ 2.8114624 ,  2.5835357 ],\n",
       "       [-1.5       , -2.8809748 ],\n",
       "       [-1.3381689 , -1.048213  ],\n",
       "       [ 1.5852652 , -2.2456353 ],\n",
       "       [-0.57508105, -1.6036698 ],\n",
       "       [-0.4242458 , -1.4271811 ],\n",
       "       [-0.85456526, -0.0107336 ],\n",
       "       [ 1.9327643 ,  3.3734646 ],\n",
       "       [-0.78930634,  2.8926606 ]], dtype=float32)"
      ]
     },
     "execution_count": 5,
     "metadata": {},
     "output_type": "execute_result"
    }
   ],
   "source": [
    "optimizer_params.params_all"
   ]
  },
  {
   "cell_type": "code",
   "execution_count": 6,
   "metadata": {},
   "outputs": [
    {
     "data": {
      "text/plain": [
       "Array([ -4.6326494 , -16.608864  ,  -5.9643846 ,  -5.570204  ,\n",
       "       -15.363153  , -23.009766  ,   1.2470949 ,   0.9344921 ,\n",
       "        -9.581152  ,   1.2331138 ,   0.8497317 ,  -3.7152047 ,\n",
       "       -15.460373  ,  -1.9393525 ,  -2.5176668 ,   1.0997624 ,\n",
       "         0.21464717,  -7.070404  ,   1.9093761 ,   1.886586  ,\n",
       "        -2.2057767 ,  -7.781334  , -23.834003  ], dtype=float32)"
      ]
     },
     "execution_count": 6,
     "metadata": {},
     "output_type": "execute_result"
    }
   ],
   "source": [
    "optimizer_params.target_all"
   ]
  },
  {
   "cell_type": "code",
   "execution_count": 7,
   "metadata": {},
   "outputs": [
    {
     "data": {
      "text/plain": [
       "1.9093761444091797"
      ]
     },
     "execution_count": 7,
     "metadata": {},
     "output_type": "execute_result"
    }
   ],
   "source": [
    "optimizer_params.target"
   ]
  },
  {
   "cell_type": "code",
   "execution_count": 8,
   "metadata": {},
   "outputs": [
    {
     "data": {
      "text/plain": [
       "{'x': Array(-0.57508105, dtype=float32), 'y': Array(-1.6036698, dtype=float32)}"
      ]
     },
     "execution_count": 8,
     "metadata": {},
     "output_type": "execute_result"
    }
   ],
   "source": [
    "optimizer_params.params"
   ]
  },
  {
   "cell_type": "code",
   "execution_count": null,
   "metadata": {},
   "outputs": [],
   "source": []
  }
 ],
 "metadata": {
  "kernelspec": {
   "display_name": "maenv",
   "language": "python",
   "name": "python3"
  },
  "language_info": {
   "codemirror_mode": {
    "name": "ipython",
    "version": 3
   },
   "file_extension": ".py",
   "mimetype": "text/x-python",
   "name": "python",
   "nbconvert_exporter": "python",
   "pygments_lexer": "ipython3",
   "version": "3.8.18"
  }
 },
 "nbformat": 4,
 "nbformat_minor": 2
}
