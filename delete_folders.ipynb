{
 "cells": [
  {
   "cell_type": "markdown",
   "metadata": {},
   "source": [
    "delete things"
   ]
  },
  {
   "cell_type": "code",
   "execution_count": 1,
   "metadata": {},
   "outputs": [
    {
     "name": "stdout",
     "output_type": "stream",
     "text": [
      "The folder /home/wzhmiasanmia/ma_workspace/TENO6DV_mobo/imp/results has been deleted.\n",
      "The folder /home/wzhmiasanmia/ma_workspace/TENO6DV_mobo/tgv/results has been deleted.\n"
     ]
    }
   ],
   "source": [
    "import shutil\n",
    "import os\n",
    "\n",
    "def delete_files(path):\n",
    "    \"\"\"\n",
    "    Delete the folder at the specified path along with all its contents.\n",
    "    \"\"\"\n",
    "    # Check if the path exists\n",
    "    if not os.path.exists(path):\n",
    "        print(f\"The path {path} does not exist.\")\n",
    "        return\n",
    "\n",
    "    # Remove the folder and its contents\n",
    "    shutil.rmtree(path)\n",
    "    print(f\"The folder {path} has been deleted.\")\n",
    "\n",
    "delete_files(\"/home/wzhmiasanmia/ma_workspace/TENO6DV_mobo/imp/results\")\n",
    "delete_files(\"/home/wzhmiasanmia/ma_workspace/TENO6DV_mobo/tgv/results\")"
   ]
  },
  {
   "cell_type": "code",
   "execution_count": null,
   "metadata": {},
   "outputs": [],
   "source": []
  }
 ],
 "metadata": {
  "kernelspec": {
   "display_name": "maenv",
   "language": "python",
   "name": "python3"
  },
  "language_info": {
   "codemirror_mode": {
    "name": "ipython",
    "version": 3
   },
   "file_extension": ".py",
   "mimetype": "text/x-python",
   "name": "python",
   "nbconvert_exporter": "python",
   "pygments_lexer": "ipython3",
   "version": "3.8.18"
  }
 },
 "nbformat": 4,
 "nbformat_minor": 2
}
