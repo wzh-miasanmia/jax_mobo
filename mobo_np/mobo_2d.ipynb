{
 "cells": [
  {
   "cell_type": "markdown",
   "metadata": {},
   "source": [
    "import numpy and test function"
   ]
  },
  {
   "cell_type": "code",
   "execution_count": 1,
   "metadata": {},
   "outputs": [],
   "source": [
    "import numpy as np\n",
    "from test_function_mobo import poloni_objectives\n",
    "\n",
    "constraints = {'X0': (-np.pi, np.pi), 'X1': (-np.pi, np.pi)}\n",
    "noise = 1e-2"
   ]
  },
  {
   "cell_type": "markdown",
   "metadata": {},
   "source": [
    "multi-objective optimization"
   ]
  },
  {
   "cell_type": "code",
   "execution_count": 2,
   "metadata": {},
   "outputs": [
    {
     "name": "stdout",
     "output_type": "stream",
     "text": [
      "[0.048831578215713524, 0.0356695174115802, 0.027403984382142765, 0.01885068913637455, 0.010491533429051325, 0.0024435591499704524, 0.006967603554199149, 0.006320238171610279, 0.0055184230049419025, 0.004740274799624813, 0.003952737447602429, 0.008359726900657649, 0.006907332187658524, 0.0055129360255113035, 0.004157641603463311, 0.006405473133931304, 0.005448053550723901, 0.004547254447037073, 0.0035130077418319577, 0.0026160608539711606, 0.0016478951851927165, 0.0012847717972513236, 0.0008085286065107943, 0.0004100410911714184, 4.94265557530621e-05, 3.2760234738295396e-05, 4.920875708967407e-05, -3.06672377041912e-05, -4.561839349905406e-05, -2.114310855430887e-05, -2.3636259811653632e-05, -2.650743093417583e-07, 0.001130964697134201, 0.0009988324703403394, 0.0009073181296529156, 0.0007878237560493366, 0.000678898886635183, 0.0005256880250594698, 0.0003939663623129849]\n"
     ]
    }
   ],
   "source": [
    "from optim_process_mobo import optim_process\n",
    "import warnings\n",
    "warnings.filterwarnings(\"ignore\", message=\"invalid value encountered in cast\")\n",
    "n_init = 5 # TODO: consider changing it and what effect it has?\n",
    "n_iter = 50\n",
    "pareto, HV_RelErr_list = optim_process(poloni_objectives, constraints, noise, n_init=n_init, n_iter=n_iter)\n",
    "print(HV_RelErr_list)"
   ]
  },
  {
   "cell_type": "markdown",
   "metadata": {},
   "source": [
    "plot a more readable figure"
   ]
  },
  {
   "cell_type": "code",
   "execution_count": 4,
   "metadata": {},
   "outputs": [],
   "source": [
    "from plot_pareto import plot_pareto_2d_2o\n",
    "plot_pareto_2d_2o(poloni_objectives, constraints, pareto, file_path='results/poloni.pdf')"
   ]
  }
 ],
 "metadata": {
  "kernelspec": {
   "display_name": "maenv",
   "language": "python",
   "name": "python3"
  },
  "language_info": {
   "codemirror_mode": {
    "name": "ipython",
    "version": 3
   },
   "file_extension": ".py",
   "mimetype": "text/x-python",
   "name": "python",
   "nbconvert_exporter": "python",
   "pygments_lexer": "ipython3",
   "version": "3.8.18"
  }
 },
 "nbformat": 4,
 "nbformat_minor": 2
}
