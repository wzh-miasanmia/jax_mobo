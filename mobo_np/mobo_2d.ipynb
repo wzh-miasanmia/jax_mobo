{
 "cells": [
  {
   "cell_type": "markdown",
   "metadata": {},
   "source": [
    "import numpy and test function"
   ]
  },
  {
   "cell_type": "code",
   "execution_count": 1,
   "metadata": {},
   "outputs": [],
   "source": [
    "import numpy as np\n",
    "from test_function_mobo import poloni_objectives\n",
    "\n",
    "constraints = {'X0': (-np.pi, np.pi), 'X1': (-np.pi, np.pi)}\n",
    "noise = 1e-2"
   ]
  },
  {
   "cell_type": "markdown",
   "metadata": {},
   "source": [
    "multi-objective optimization"
   ]
  },
  {
   "cell_type": "code",
   "execution_count": 2,
   "metadata": {},
   "outputs": [
    {
     "name": "stdout",
     "output_type": "stream",
     "text": [
      "Optimization process took 601.35 seconds\n",
      "[0.6589391229336753, 0.5545157801292309, 0.44417154017261257, 0.3486180376260829, 0.27063682694607827, 0.20055520536419544, 0.15182351788539242, 0.11079105512364952, 0.056643388932548264, 0.02142960040645882, 0.017708978460009756, 0.014417677373294604, 0.011196460118441083, 0.008048625762716982, 0.0048761170487684625, 0.015343561517570763, -0.001563162797619934, -0.0015547747090591789, -0.001553373550936744, 0.0019009647278059177, 0.0015366189351724306, 0.0011540529663813877, 0.0007743955247054028, 0.00040343732540618196, 0.0034513273978797783, 0.00421128325702186, 0.0033878249772093757, 0.0026325217034160586, 0.0018747115382928981, 0.0014981407675204372, 0.0011589715522449266, 0.0007487796601931242, 0.00041567171791095036, -8.951214984615221e-06, 2.7634170300383777e-05, 0.002261879075614187, 0.0020074443356522024, 0.001747747842264908, 0.001452714836305275, 0.0012490262527454989, 0.0017858171507547753, 0.0014414918981986745, 0.003021074210413629, 0.0024184979412989146, 0.0019326235422924374, 0.0023951854803064203, 0.002005198154404711, 0.0016111889526418885, 0.0020895543681491283, 0.001521760844274836, 0.0019073741544404573, 0.003710249446151955, 0.00374785578391368, 0.003189915625630143, 0.0025921345083180173, 0.0020936465635908747, 0.0016251719560033682, 0.0011305401741915327, 0.000758897274110123, 0.00036244834228972025, 5.5310805726262664e-05, -4.302395438669322e-06, 0.0004870844619186082, 0.0012146714480481219, 0.0010698983186442435, 0.0009328362140583598, 0.0007841816445009166, 0.0008322517293689703, 0.0007928797974057386, 0.0007252994276540028, 0.0005436335151833473, 0.0003734389859926741, 0.00022297528069381277, 0.00018366750361379424, 0.0005091665547258613, 0.00041715555015161437, 0.00031895046773743773, 0.00037051771981650453, 0.0002976564858909702, 0.0002623829516174717, 0.00036246002413582143, 0.0002918826446308678, 0.0002145929367056241, 0.00014135346966228355, 0.00017498142301185086, 0.00012729093373396705, 9.539387269524728e-05, 8.098591048909362e-05, 1.205531204751841e-05]\n"
     ]
    }
   ],
   "source": [
    "import time\n",
    "from optim_process_mobo import optim_process\n",
    "import warnings\n",
    "warnings.filterwarnings(\"ignore\", message=\"invalid value encountered in cast\")\n",
    "n_init = 5 # TODO: consider changing it and what effect it has?\n",
    "n_iter = 100\n",
    "# Start timing\n",
    "start_time = time.time()\n",
    "pareto, HV_RelErr_list = optim_process(poloni_objectives, constraints, noise, n_init=n_init, n_iter=n_iter)\n",
    "# End timing\n",
    "end_time = time.time()\n",
    "\n",
    "# Print the execution time of the optimization process\n",
    "print(\"Optimization process took {:.2f} seconds\".format(end_time - start_time))\n",
    "\n",
    "print(HV_RelErr_list)"
   ]
  },
  {
   "cell_type": "markdown",
   "metadata": {},
   "source": [
    "plot a more readable figure"
   ]
  },
  {
   "cell_type": "code",
   "execution_count": 3,
   "metadata": {},
   "outputs": [],
   "source": [
    "from plot_pareto import plot_pareto_2d_2o\n",
    "plot_pareto_2d_2o(poloni_objectives, constraints, pareto, file_path='results/poloni.pdf')"
   ]
  }
 ],
 "metadata": {
  "kernelspec": {
   "display_name": "maenv",
   "language": "python",
   "name": "python3"
  },
  "language_info": {
   "codemirror_mode": {
    "name": "ipython",
    "version": 3
   },
   "file_extension": ".py",
   "mimetype": "text/x-python",
   "name": "python",
   "nbconvert_exporter": "python",
   "pygments_lexer": "ipython3",
   "version": "3.8.18"
  }
 },
 "nbformat": 4,
 "nbformat_minor": 2
}
