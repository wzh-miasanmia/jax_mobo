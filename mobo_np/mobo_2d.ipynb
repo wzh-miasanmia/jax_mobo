{
 "cells": [
  {
   "cell_type": "markdown",
   "metadata": {},
   "source": [
    "import numpy and test function"
   ]
  },
  {
   "cell_type": "code",
   "execution_count": 1,
   "metadata": {},
   "outputs": [],
   "source": [
    "import numpy as np\n",
    "from test_function_mobo import poloni_objectives\n",
    "\n",
    "constraints = {'X0': (-np.pi, np.pi), 'X1': (-np.pi, np.pi)}\n",
    "noise = 1e-2"
   ]
  },
  {
   "cell_type": "markdown",
   "metadata": {},
   "source": [
    "multi-objective optimization"
   ]
  },
  {
   "cell_type": "code",
   "execution_count": 2,
   "metadata": {},
   "outputs": [
    {
     "name": "stdout",
     "output_type": "stream",
     "text": [
      "Optimization process took 103.94 seconds\n",
      "[1.2875592371840314, 1.0081871224236056, 0.7920314090769734, 0.5902726450557105, 0.44864656936022324, 0.29041227328364655, 0.1802775306104062, 0.08746770134244276, 0.019063014486342247, 0.05836642782838313, 0.00306456775391217, 0.0016357261364349223, 0.00021170259860181894, -0.001217661282944347, -0.0008988763016375127, -0.0023000433447760826, -0.003719734158854152, -0.005110060758628148, -0.0053492847720626215, 2.188447446460227e-05, 0.008069183677162346, 0.007170470178916863, 0.0062701532917584695, 0.005382574728025079, 0.0044862655389002574, 0.003626994485727787, 0.002667493999644598, 0.0017785042195066095, 0.0009182606335606432, 4.1063245859367156e-05, 0.002823900987917782, 0.0024438072933317943, 0.0021064757791511585, 0.0036300706188506847, 0.0031180069096361446, 0.0026076124654041584, 0.0021037288202915808, 0.0015851769577018364, 0.0010717072904161125]\n"
     ]
    }
   ],
   "source": [
    "import time\n",
    "from optim_process_mobo import optim_process\n",
    "import warnings\n",
    "warnings.filterwarnings(\"ignore\", message=\"invalid value encountered in cast\")\n",
    "n_init = 5 # TODO: consider changing it and what effect it has?\n",
    "n_iter = 50\n",
    "# Start timing\n",
    "start_time = time.time()\n",
    "pareto, HV_RelErr_list = optim_process(poloni_objectives, constraints, noise, n_init=n_init, n_iter=n_iter)\n",
    "# End timing\n",
    "end_time = time.time()\n",
    "\n",
    "# Print the execution time of the optimization process\n",
    "print(\"Optimization process took {:.2f} seconds\".format(end_time - start_time))\n",
    "\n",
    "print(HV_RelErr_list)"
   ]
  },
  {
   "cell_type": "markdown",
   "metadata": {},
   "source": [
    "plot a more readable figure"
   ]
  },
  {
   "cell_type": "code",
   "execution_count": 3,
   "metadata": {},
   "outputs": [],
   "source": [
    "from plot_pareto import plot_pareto_2d_2o\n",
    "plot_pareto_2d_2o(poloni_objectives, constraints, pareto, file_path='results/poloni.pdf')"
   ]
  }
 ],
 "metadata": {
  "kernelspec": {
   "display_name": "maenv",
   "language": "python",
   "name": "python3"
  },
  "language_info": {
   "codemirror_mode": {
    "name": "ipython",
    "version": 3
   },
   "file_extension": ".py",
   "mimetype": "text/x-python",
   "name": "python",
   "nbconvert_exporter": "python",
   "pygments_lexer": "ipython3",
   "version": "3.8.18"
  }
 },
 "nbformat": 4,
 "nbformat_minor": 2
}
