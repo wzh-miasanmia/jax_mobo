{
 "cells": [
  {
   "cell_type": "code",
   "execution_count": 1,
   "metadata": {},
   "outputs": [],
   "source": [
    "import numpy as np\n",
    "import warnings\n",
    "warnings.filterwarnings(\"ignore\", message=\"invalid value encountered in cast\")\n",
    "from test_function_mobo import schaffer_function_n1_multiobjective\n",
    "constraints = {'X': (-10, 10)}\n",
    "noise = 1e-2"
   ]
  },
  {
   "cell_type": "code",
   "execution_count": 2,
   "metadata": {},
   "outputs": [
    {
     "name": "stdout",
     "output_type": "stream",
     "text": [
      "[0.0003629927209650918, 0.00026969097015405095, 8.469142803516813e-05, 0.00010856552526986027]\n"
     ]
    }
   ],
   "source": [
    "from optim_process_mobo import optim_process\n",
    "n_init = 5\n",
    "n_iter = 15\n",
    "pareto, HV_RelErr_list = optim_process(schaffer_function_n1_multiobjective, constraints, noise, n_init=n_init, n_iter=n_iter)\n",
    "print(HV_RelErr_list)"
   ]
  },
  {
   "cell_type": "code",
   "execution_count": 3,
   "metadata": {},
   "outputs": [],
   "source": [
    "from plot_pareto import plot_pareto_1d_2o\n",
    "plot_pareto_1d_2o(schaffer_function_n1_multiobjective, constraints, pareto, file_path='results/schaffer_function_n1.pdf')"
   ]
  },
  {
   "cell_type": "code",
   "execution_count": null,
   "metadata": {},
   "outputs": [],
   "source": []
  }
 ],
 "metadata": {
  "kernelspec": {
   "display_name": "maenv",
   "language": "python",
   "name": "python3"
  },
  "language_info": {
   "codemirror_mode": {
    "name": "ipython",
    "version": 3
   },
   "file_extension": ".py",
   "mimetype": "text/x-python",
   "name": "python",
   "nbconvert_exporter": "python",
   "pygments_lexer": "ipython3",
   "version": "3.8.18"
  }
 },
 "nbformat": 4,
 "nbformat_minor": 2
}
