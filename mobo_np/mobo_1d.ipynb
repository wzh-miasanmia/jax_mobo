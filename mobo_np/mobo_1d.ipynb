{
 "cells": [
  {
   "cell_type": "code",
   "execution_count": 1,
   "metadata": {},
   "outputs": [],
   "source": [
    "import numpy as np\n",
    "from test_function_mobo import schaffer_function_n1_multiobjective\n",
    "constrains = {'X': (-10, 10)}\n",
    "noise = 1e-3"
   ]
  },
  {
   "cell_type": "code",
   "execution_count": 2,
   "metadata": {},
   "outputs": [
    {
     "ename": "ValueError",
     "evalue": "The user-provided objective function must return a scalar value.",
     "output_type": "error",
     "traceback": [
      "\u001b[0;31m---------------------------------------------------------------------------\u001b[0m",
      "\u001b[0;31mValueError\u001b[0m                                Traceback (most recent call last)",
      "File \u001b[0;32m/Applications/anaconda3/envs/maenv/lib/python3.9/site-packages/scipy/optimize/_differentiable_functions.py:141\u001b[0m, in \u001b[0;36mScalarFunction.__init__.<locals>.fun_wrapped\u001b[0;34m(x)\u001b[0m\n\u001b[1;32m    140\u001b[0m \u001b[39mtry\u001b[39;00m:\n\u001b[0;32m--> 141\u001b[0m     fx \u001b[39m=\u001b[39m np\u001b[39m.\u001b[39;49masarray(fx)\u001b[39m.\u001b[39;49mitem()\n\u001b[1;32m    142\u001b[0m \u001b[39mexcept\u001b[39;00m (\u001b[39mTypeError\u001b[39;00m, \u001b[39mValueError\u001b[39;00m) \u001b[39mas\u001b[39;00m e:\n",
      "\u001b[0;31mValueError\u001b[0m: can only convert an array of size 1 to a Python scalar",
      "\nThe above exception was the direct cause of the following exception:\n",
      "\u001b[0;31mValueError\u001b[0m                                Traceback (most recent call last)",
      "\u001b[1;32m/Users/wzh-miasanmia/Desktop/TUM_course/Masterarbeit/jax_mobo/mobo_np/mobo_1d.ipynb Cell 2\u001b[0m line \u001b[0;36m5\n\u001b[1;32m      <a href='vscode-notebook-cell:/Users/wzh-miasanmia/Desktop/TUM_course/Masterarbeit/jax_mobo/mobo_np/mobo_1d.ipynb#W2sZmlsZQ%3D%3D?line=2'>3</a>\u001b[0m n_init \u001b[39m=\u001b[39m \u001b[39m5\u001b[39m\n\u001b[1;32m      <a href='vscode-notebook-cell:/Users/wzh-miasanmia/Desktop/TUM_course/Masterarbeit/jax_mobo/mobo_np/mobo_1d.ipynb#W2sZmlsZQ%3D%3D?line=3'>4</a>\u001b[0m n_iter \u001b[39m=\u001b[39m \u001b[39m10\u001b[39m\n\u001b[0;32m----> <a href='vscode-notebook-cell:/Users/wzh-miasanmia/Desktop/TUM_course/Masterarbeit/jax_mobo/mobo_np/mobo_1d.ipynb#W2sZmlsZQ%3D%3D?line=4'>5</a>\u001b[0m pareto, ref_point \u001b[39m=\u001b[39m optim_process(schaffer_function_n1_multiobjective, constrains, noise, n_init\u001b[39m=\u001b[39;49mn_init, n_iter\u001b[39m=\u001b[39;49mn_iter)\n\u001b[1;32m      <a href='vscode-notebook-cell:/Users/wzh-miasanmia/Desktop/TUM_course/Masterarbeit/jax_mobo/mobo_np/mobo_1d.ipynb#W2sZmlsZQ%3D%3D?line=5'>6</a>\u001b[0m plot_pareto_hv(pareto, ref_point)\n",
      "File \u001b[0;32m~/Desktop/TUM_course/Masterarbeit/jax_mobo/mobo_np/optim_process_mobo.py:67\u001b[0m, in \u001b[0;36moptim_process\u001b[0;34m(f_multi, constrains, noise, acq, n_init, n_iter, normalization)\u001b[0m\n\u001b[1;32m     64\u001b[0m     X_next \u001b[39m=\u001b[39m unnormalize(X_next_normal, bounds)\n\u001b[1;32m     65\u001b[0m \u001b[39melse\u001b[39;00m:\n\u001b[1;32m     66\u001b[0m     \u001b[39m# Obtain next sampling point from the acquisition function(expected_improvement)\u001b[39;00m\n\u001b[0;32m---> 67\u001b[0m     X_next \u001b[39m=\u001b[39m propose_location(acq, X_sample, Y_sample_multi, gpr_list, bounds, ref_point)\n\u001b[1;32m     69\u001b[0m Y_next \u001b[39m=\u001b[39m f_multi(X_next \u001b[39mif\u001b[39;00m dim \u001b[39m==\u001b[39m \u001b[39m1\u001b[39m \u001b[39melse\u001b[39;00m X_next\u001b[39m.\u001b[39mT)\n\u001b[1;32m     71\u001b[0m \u001b[39m# Add sample to previous samples\u001b[39;00m\n",
      "File \u001b[0;32m~/Desktop/TUM_course/Masterarbeit/jax_mobo/mobo_np/mobo.py:73\u001b[0m, in \u001b[0;36mpropose_location\u001b[0;34m(acquisition, X_sample, Y_sample_multi, gpr_list, bounds, ref_point, n_restarts)\u001b[0m\n\u001b[1;32m     71\u001b[0m \u001b[39m# Find the best optimum by starting from n_restart different random points.\u001b[39;00m\n\u001b[1;32m     72\u001b[0m \u001b[39mfor\u001b[39;00m x0 \u001b[39min\u001b[39;00m np\u001b[39m.\u001b[39mrandom\u001b[39m.\u001b[39muniform(bounds[:, \u001b[39m0\u001b[39m], bounds[:, \u001b[39m1\u001b[39m], size\u001b[39m=\u001b[39m(n_restarts, dim)):\n\u001b[0;32m---> 73\u001b[0m     res \u001b[39m=\u001b[39m minimize(min_obj, x0\u001b[39m=\u001b[39;49mx0, bounds\u001b[39m=\u001b[39;49mbounds, method\u001b[39m=\u001b[39;49m\u001b[39m'\u001b[39;49m\u001b[39mL-BFGS-B\u001b[39;49m\u001b[39m'\u001b[39;49m)        \n\u001b[1;32m     74\u001b[0m     \u001b[39mif\u001b[39;00m res\u001b[39m.\u001b[39mfun \u001b[39m<\u001b[39m min_val:\n\u001b[1;32m     75\u001b[0m         min_val \u001b[39m=\u001b[39m res\u001b[39m.\u001b[39mfun\n",
      "File \u001b[0;32m/Applications/anaconda3/envs/maenv/lib/python3.9/site-packages/scipy/optimize/_minimize.py:710\u001b[0m, in \u001b[0;36mminimize\u001b[0;34m(fun, x0, args, method, jac, hess, hessp, bounds, constraints, tol, callback, options)\u001b[0m\n\u001b[1;32m    707\u001b[0m     res \u001b[39m=\u001b[39m _minimize_newtoncg(fun, x0, args, jac, hess, hessp, callback,\n\u001b[1;32m    708\u001b[0m                              \u001b[39m*\u001b[39m\u001b[39m*\u001b[39moptions)\n\u001b[1;32m    709\u001b[0m \u001b[39melif\u001b[39;00m meth \u001b[39m==\u001b[39m \u001b[39m'\u001b[39m\u001b[39ml-bfgs-b\u001b[39m\u001b[39m'\u001b[39m:\n\u001b[0;32m--> 710\u001b[0m     res \u001b[39m=\u001b[39m _minimize_lbfgsb(fun, x0, args, jac, bounds,\n\u001b[1;32m    711\u001b[0m                            callback\u001b[39m=\u001b[39;49mcallback, \u001b[39m*\u001b[39;49m\u001b[39m*\u001b[39;49moptions)\n\u001b[1;32m    712\u001b[0m \u001b[39melif\u001b[39;00m meth \u001b[39m==\u001b[39m \u001b[39m'\u001b[39m\u001b[39mtnc\u001b[39m\u001b[39m'\u001b[39m:\n\u001b[1;32m    713\u001b[0m     res \u001b[39m=\u001b[39m _minimize_tnc(fun, x0, args, jac, bounds, callback\u001b[39m=\u001b[39mcallback,\n\u001b[1;32m    714\u001b[0m                         \u001b[39m*\u001b[39m\u001b[39m*\u001b[39moptions)\n",
      "File \u001b[0;32m/Applications/anaconda3/envs/maenv/lib/python3.9/site-packages/scipy/optimize/_lbfgsb_py.py:307\u001b[0m, in \u001b[0;36m_minimize_lbfgsb\u001b[0;34m(fun, x0, args, jac, bounds, disp, maxcor, ftol, gtol, eps, maxfun, maxiter, iprint, callback, maxls, finite_diff_rel_step, **unknown_options)\u001b[0m\n\u001b[1;32m    304\u001b[0m     \u001b[39melse\u001b[39;00m:\n\u001b[1;32m    305\u001b[0m         iprint \u001b[39m=\u001b[39m disp\n\u001b[0;32m--> 307\u001b[0m sf \u001b[39m=\u001b[39m _prepare_scalar_function(fun, x0, jac\u001b[39m=\u001b[39;49mjac, args\u001b[39m=\u001b[39;49margs, epsilon\u001b[39m=\u001b[39;49meps,\n\u001b[1;32m    308\u001b[0m                               bounds\u001b[39m=\u001b[39;49mnew_bounds,\n\u001b[1;32m    309\u001b[0m                               finite_diff_rel_step\u001b[39m=\u001b[39;49mfinite_diff_rel_step)\n\u001b[1;32m    311\u001b[0m func_and_grad \u001b[39m=\u001b[39m sf\u001b[39m.\u001b[39mfun_and_grad\n\u001b[1;32m    313\u001b[0m fortran_int \u001b[39m=\u001b[39m _lbfgsb\u001b[39m.\u001b[39mtypes\u001b[39m.\u001b[39mintvar\u001b[39m.\u001b[39mdtype\n",
      "File \u001b[0;32m/Applications/anaconda3/envs/maenv/lib/python3.9/site-packages/scipy/optimize/_optimize.py:383\u001b[0m, in \u001b[0;36m_prepare_scalar_function\u001b[0;34m(fun, x0, jac, args, bounds, epsilon, finite_diff_rel_step, hess)\u001b[0m\n\u001b[1;32m    379\u001b[0m     bounds \u001b[39m=\u001b[39m (\u001b[39m-\u001b[39mnp\u001b[39m.\u001b[39minf, np\u001b[39m.\u001b[39minf)\n\u001b[1;32m    381\u001b[0m \u001b[39m# ScalarFunction caches. Reuse of fun(x) during grad\u001b[39;00m\n\u001b[1;32m    382\u001b[0m \u001b[39m# calculation reduces overall function evaluations.\u001b[39;00m\n\u001b[0;32m--> 383\u001b[0m sf \u001b[39m=\u001b[39m ScalarFunction(fun, x0, args, grad, hess,\n\u001b[1;32m    384\u001b[0m                     finite_diff_rel_step, bounds, epsilon\u001b[39m=\u001b[39;49mepsilon)\n\u001b[1;32m    386\u001b[0m \u001b[39mreturn\u001b[39;00m sf\n",
      "File \u001b[0;32m/Applications/anaconda3/envs/maenv/lib/python3.9/site-packages/scipy/optimize/_differentiable_functions.py:158\u001b[0m, in \u001b[0;36mScalarFunction.__init__\u001b[0;34m(self, fun, x0, args, grad, hess, finite_diff_rel_step, finite_diff_bounds, epsilon)\u001b[0m\n\u001b[1;32m    155\u001b[0m     \u001b[39mself\u001b[39m\u001b[39m.\u001b[39mf \u001b[39m=\u001b[39m fun_wrapped(\u001b[39mself\u001b[39m\u001b[39m.\u001b[39mx)\n\u001b[1;32m    157\u001b[0m \u001b[39mself\u001b[39m\u001b[39m.\u001b[39m_update_fun_impl \u001b[39m=\u001b[39m update_fun\n\u001b[0;32m--> 158\u001b[0m \u001b[39mself\u001b[39;49m\u001b[39m.\u001b[39;49m_update_fun()\n\u001b[1;32m    160\u001b[0m \u001b[39m# Gradient evaluation\u001b[39;00m\n\u001b[1;32m    161\u001b[0m \u001b[39mif\u001b[39;00m \u001b[39mcallable\u001b[39m(grad):\n",
      "File \u001b[0;32m/Applications/anaconda3/envs/maenv/lib/python3.9/site-packages/scipy/optimize/_differentiable_functions.py:251\u001b[0m, in \u001b[0;36mScalarFunction._update_fun\u001b[0;34m(self)\u001b[0m\n\u001b[1;32m    249\u001b[0m \u001b[39mdef\u001b[39;00m \u001b[39m_update_fun\u001b[39m(\u001b[39mself\u001b[39m):\n\u001b[1;32m    250\u001b[0m     \u001b[39mif\u001b[39;00m \u001b[39mnot\u001b[39;00m \u001b[39mself\u001b[39m\u001b[39m.\u001b[39mf_updated:\n\u001b[0;32m--> 251\u001b[0m         \u001b[39mself\u001b[39;49m\u001b[39m.\u001b[39;49m_update_fun_impl()\n\u001b[1;32m    252\u001b[0m         \u001b[39mself\u001b[39m\u001b[39m.\u001b[39mf_updated \u001b[39m=\u001b[39m \u001b[39mTrue\u001b[39;00m\n",
      "File \u001b[0;32m/Applications/anaconda3/envs/maenv/lib/python3.9/site-packages/scipy/optimize/_differentiable_functions.py:155\u001b[0m, in \u001b[0;36mScalarFunction.__init__.<locals>.update_fun\u001b[0;34m()\u001b[0m\n\u001b[1;32m    154\u001b[0m \u001b[39mdef\u001b[39;00m \u001b[39mupdate_fun\u001b[39m():\n\u001b[0;32m--> 155\u001b[0m     \u001b[39mself\u001b[39m\u001b[39m.\u001b[39mf \u001b[39m=\u001b[39m fun_wrapped(\u001b[39mself\u001b[39;49m\u001b[39m.\u001b[39;49mx)\n",
      "File \u001b[0;32m/Applications/anaconda3/envs/maenv/lib/python3.9/site-packages/scipy/optimize/_differentiable_functions.py:143\u001b[0m, in \u001b[0;36mScalarFunction.__init__.<locals>.fun_wrapped\u001b[0;34m(x)\u001b[0m\n\u001b[1;32m    141\u001b[0m         fx \u001b[39m=\u001b[39m np\u001b[39m.\u001b[39masarray(fx)\u001b[39m.\u001b[39mitem()\n\u001b[1;32m    142\u001b[0m     \u001b[39mexcept\u001b[39;00m (\u001b[39mTypeError\u001b[39;00m, \u001b[39mValueError\u001b[39;00m) \u001b[39mas\u001b[39;00m e:\n\u001b[0;32m--> 143\u001b[0m         \u001b[39mraise\u001b[39;00m \u001b[39mValueError\u001b[39;00m(\n\u001b[1;32m    144\u001b[0m             \u001b[39m\"\u001b[39m\u001b[39mThe user-provided objective function \u001b[39m\u001b[39m\"\u001b[39m\n\u001b[1;32m    145\u001b[0m             \u001b[39m\"\u001b[39m\u001b[39mmust return a scalar value.\u001b[39m\u001b[39m\"\u001b[39m\n\u001b[1;32m    146\u001b[0m         ) \u001b[39mfrom\u001b[39;00m \u001b[39me\u001b[39;00m\n\u001b[1;32m    148\u001b[0m \u001b[39mif\u001b[39;00m fx \u001b[39m<\u001b[39m \u001b[39mself\u001b[39m\u001b[39m.\u001b[39m_lowest_f:\n\u001b[1;32m    149\u001b[0m     \u001b[39mself\u001b[39m\u001b[39m.\u001b[39m_lowest_x \u001b[39m=\u001b[39m x\n",
      "\u001b[0;31mValueError\u001b[0m: The user-provided objective function must return a scalar value."
     ]
    }
   ],
   "source": [
    "from optim_process_mobo import optim_process\n",
    "from HV_cal import plot_pareto_hv\n",
    "n_init = 5\n",
    "n_iter = 10\n",
    "pareto, ref_point = optim_process(schaffer_function_n1_multiobjective, constrains, noise, n_init=n_init, n_iter=n_iter)\n",
    "plot_pareto_hv(pareto, ref_point)"
   ]
  }
 ],
 "metadata": {
  "kernelspec": {
   "display_name": "maenv",
   "language": "python",
   "name": "python3"
  },
  "language_info": {
   "codemirror_mode": {
    "name": "ipython",
    "version": 3
   },
   "file_extension": ".py",
   "mimetype": "text/x-python",
   "name": "python",
   "nbconvert_exporter": "python",
   "pygments_lexer": "ipython3",
   "version": "3.9.18"
  }
 },
 "nbformat": 4,
 "nbformat_minor": 2
}
