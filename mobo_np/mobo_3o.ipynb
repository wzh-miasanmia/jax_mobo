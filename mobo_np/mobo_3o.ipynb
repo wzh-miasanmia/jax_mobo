{
 "cells": [
  {
   "cell_type": "markdown",
   "metadata": {},
   "source": [
    "import numpy and test function"
   ]
  },
  {
   "cell_type": "code",
   "execution_count": 1,
   "metadata": {},
   "outputs": [],
   "source": [
    "import numpy as np\n",
    "from test_function_mobo import viennet_function\n",
    "\n",
    "constraints = {'X0': (-3,3), 'X1': (-3,3)}\n",
    "noise = 1e-2"
   ]
  },
  {
   "cell_type": "markdown",
   "metadata": {},
   "source": [
    "multi-objective optimization"
   ]
  },
  {
   "cell_type": "code",
   "execution_count": 2,
   "metadata": {},
   "outputs": [
    {
     "name": "stdout",
     "output_type": "stream",
     "text": [
      "Optimization process took 461.27 seconds\n",
      "[0.8261311454131313, 0.5276193260385228, 0.3574127396056478, 0.19327776424122992, 0.06421044053681346, -0.040711893931675715, -0.12984014360404705, -0.09970841925142021, -0.07126820626820685, -0.007680894924627588, -0.006574484470767209, -0.006807287880543961, 0.15072293345144688, 1.5668908801696049, 1.1864047057291534, 0.900734054250769, 0.7473650589256349, 0.5744164410823803, 0.41672496260671266, 0.28787396759111006, 0.17902557871564273, 0.08754759480496925, 0.01546558917882861, 0.009326665610974689, 0.003090148865861299, -0.0028556141176033305, -0.004072718386529997, 0.003987193068238411, 0.0029919091854449216, 0.0036772647502856196, 0.0028322365084227424, 0.0018257403489859228, 0.002584256610731942, 0.0017265054090791136, -0.0018710666830468476, -0.002657559212404268, -0.0033224352167349177, -0.00313411699584783, -0.004119455181912758, -0.00373980135923799, -0.0033130772186027837, -0.0028554011513733223, -0.0016272301111075983, -0.0018986858457495513, -0.001439400475959829, -0.0019427728986791337, -0.0013941556806650684, 0.026030576244391788, 0.022662425049018605, 0.02040763072402265, 0.01655671143775058, 0.013707867886171631, 0.013002570801638483, 0.009965680286554238, 0.006573324809187552, 0.0058217829375648575, 0.0021894491271315453, 0.0013169793345598774, 0.0075845010066634706, 0.025982076110973033, 0.016668502399564834, 0.039762380900607304, 0.042357106323592096, 0.025985999067572433, 0.031641548327674705, 0.01455938116321491, 0.009891884216426594, 0.0053055441483912166, 0.0013983431443307607, -0.0003773278855876145, -0.0030103577811555443, -0.00271942580945166, -0.0016895459593612582, -0.0016586567164055405, -0.0001725557314509946, 0.008021008136064288, -0.0011670022099583945, -0.0010062577593452765, -0.00052793162266053, -0.0008117250711615694, -0.000999474852018566, 0.002775058624492861, 0.0026994700470096607, 0.00862075006332164, 0.007514303523547399, 0.007129796684545151, 0.014244422619520363, 0.0038434569884117824, 0.0026413802435488153]\n"
     ]
    }
   ],
   "source": [
    "import time\n",
    "from optim_process_mobo import optim_process\n",
    "import warnings\n",
    "warnings.filterwarnings(\"ignore\", message=\"invalid value encountered in cast\")\n",
    "\n",
    "n_init = 10 # TODO: consider changing it and what effect it has?\n",
    "n_iter = 100\n",
    "\n",
    "# Start timing\n",
    "start_time = time.time()\n",
    "pareto, HV_RelErr_list = optim_process(viennet_function, constraints, noise, n_init=n_init, n_iter=n_iter)\n",
    "\n",
    "# End timing\n",
    "end_time = time.time()\n",
    "# Print the execution time of the optimization process\n",
    "print(\"Optimization process took {:.2f} seconds\".format(end_time - start_time))\n",
    "\n",
    "print(HV_RelErr_list)"
   ]
  },
  {
   "cell_type": "markdown",
   "metadata": {},
   "source": [
    "plot a more readable figure"
   ]
  },
  {
   "cell_type": "code",
   "execution_count": 3,
   "metadata": {},
   "outputs": [],
   "source": [
    "from plot_pareto import plot_pareto_2d_3o\n",
    "plot_pareto_2d_3o(viennet_function, constraints, pareto, file_path='results/viennet.pdf')"
   ]
  }
 ],
 "metadata": {
  "kernelspec": {
   "display_name": "maenv",
   "language": "python",
   "name": "python3"
  },
  "language_info": {
   "codemirror_mode": {
    "name": "ipython",
    "version": 3
   },
   "file_extension": ".py",
   "mimetype": "text/x-python",
   "name": "python",
   "nbconvert_exporter": "python",
   "pygments_lexer": "ipython3",
   "version": "3.8.18"
  }
 },
 "nbformat": 4,
 "nbformat_minor": 2
}
