{
 "cells": [
  {
   "cell_type": "markdown",
   "metadata": {},
   "source": [
    "import numpy and test function"
   ]
  },
  {
   "cell_type": "code",
   "execution_count": 1,
   "metadata": {},
   "outputs": [],
   "source": [
    "import numpy as np\n",
    "from test_function_mobo import viennet_function\n",
    "\n",
    "constraints = {'X0': (-3,3), 'X1': (-3,3)}\n",
    "noise = 1e-2"
   ]
  },
  {
   "cell_type": "markdown",
   "metadata": {},
   "source": [
    "multi-objective optimization"
   ]
  },
  {
   "cell_type": "code",
   "execution_count": 2,
   "metadata": {},
   "outputs": [
    {
     "name": "stdout",
     "output_type": "stream",
     "text": [
      "[0.37125976902956354, 0.3013292980648276, 0.24133046309027442, 0.18006953606597095, 0.1279221915251579, 0.08090795197068906, 0.036304668665784336, 0.22079171756167665, -0.0233366298649438, -0.030172677230158942, -0.03018816621524376, -0.022848416631194298, -0.02529105003778205, -0.027164131255330112, -0.028737503374845524, -0.027816748661020945, -0.031988697181403555, -0.015097745760292039, -0.01451622469803897, -0.015251116450094032, -0.010588639131848742, -0.007821338703975797, -0.0084913486028851, -0.006343368090715084, -0.003034981676843905, -0.000669092984795422, -0.002355967450514903, 0.08473109214038657, 0.056876132406232204, 0.049323596429172334, 0.04069838532499176, 0.03170451027925012, 0.02545338071157944, 0.016526713436151804, 0.010210962795161286, 0.002758036226575298, -0.005069498530384997, -0.0007909060589221478, -0.0005488594317274904, 0.0047602661159537795, 0.0033904486229656347, 0.013587593222806445, 0.012302647917461884, 0.011675352192851398, 0.009124018478713004, 0.009488073318924276, 0.0074624025624356015, 0.024107224801741368, 0.01986063362143285, 0.016355653085771787, 0.012426063211085093, 0.011052827902761141, 0.016101645419269953, 0.011006146327734511, 0.06545256306824995, 0.021015172593171722, 0.016315106761384156, 0.05343111256323894, 0.028245142192303375, 0.02279594916258003, 0.016733385005413152, 0.011124008532965355, 0.006208800348121892, 0.0014464876534203725, 0.002217863703623461, 0.03635094482412491, 0.0034117665803194554, 0.008158894243926363, 0.03817695015440755, 0.009686867558153057, 0.04627851117912878, 0.044876867388238706, 0.008815785997623926, 0.00486098380074662, 0.0015704106520232335, 0.0016160054030064886, -0.0017826070725852413, -0.002884651772445697, -0.0030466329346495857, 0.01990085123299946, 0.026467516324577025, -0.0017503786247577602, 0.02635430863527909, -0.0055547360908956836, -0.0058682548521454166, -0.00642760661492625, -0.005850020715517391, -0.006384482521686208, -0.006974422137367489]\n"
     ]
    }
   ],
   "source": [
    "from optim_process_mobo import optim_process\n",
    "import warnings\n",
    "warnings.filterwarnings(\"ignore\", message=\"invalid value encountered in cast\")\n",
    "\n",
    "n_init = 10 # TODO: consider changing it and what effect it has?\n",
    "n_iter = 100\n",
    "pareto, HV_RelErr_list = optim_process(viennet_function, constraints, noise, n_init=n_init, n_iter=n_iter)\n",
    "print(HV_RelErr_list)"
   ]
  },
  {
   "cell_type": "markdown",
   "metadata": {},
   "source": [
    "plot a more readable figure"
   ]
  },
  {
   "cell_type": "code",
   "execution_count": 3,
   "metadata": {},
   "outputs": [],
   "source": [
    "from plot_pareto import plot_pareto_2d_3o\n",
    "plot_pareto_2d_3o(viennet_function, constraints, pareto, file_path='results/viennet.pdf')"
   ]
  }
 ],
 "metadata": {
  "kernelspec": {
   "display_name": "maenv",
   "language": "python",
   "name": "python3"
  },
  "language_info": {
   "codemirror_mode": {
    "name": "ipython",
    "version": 3
   },
   "file_extension": ".py",
   "mimetype": "text/x-python",
   "name": "python",
   "nbconvert_exporter": "python",
   "pygments_lexer": "ipython3",
   "version": "3.8.18"
  }
 },
 "nbformat": 4,
 "nbformat_minor": 2
}
