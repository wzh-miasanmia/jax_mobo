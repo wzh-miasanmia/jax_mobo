{
 "cells": [
  {
   "cell_type": "code",
   "execution_count": 1,
   "metadata": {},
   "outputs": [],
   "source": [
    "import numpy as np"
   ]
  },
  {
   "cell_type": "markdown",
   "metadata": {},
   "source": [
    "1d situation"
   ]
  },
  {
   "cell_type": "code",
   "execution_count": 2,
   "metadata": {},
   "outputs": [],
   "source": [
    "noise = 1e-3\n",
    "def f(X, noise=noise):\n",
    "    return -np.sin(3*X) - X**2 + 0.7*X + noise * np.random.randn(*X.shape)\n",
    "constrains = {'X': (-1.0, 2.0)}"
   ]
  },
  {
   "cell_type": "markdown",
   "metadata": {},
   "source": [
    "optimization"
   ]
  },
  {
   "cell_type": "code",
   "execution_count": 3,
   "metadata": {},
   "outputs": [
    {
     "data": {
      "text/plain": [
       "0.34475173229838013"
      ]
     },
     "execution_count": 3,
     "metadata": {},
     "output_type": "execute_result"
    }
   ],
   "source": [
    "from optim_process import optim_process\n",
    "optimizer_params = optim_process(f, constrains, noise)\n",
    "optimizer_params.target"
   ]
  },
  {
   "cell_type": "markdown",
   "metadata": {},
   "source": [
    "2d situation"
   ]
  },
  {
   "cell_type": "code",
   "execution_count": 8,
   "metadata": {},
   "outputs": [],
   "source": [
    "constrains = {'X0': (-1.5, 4), 'X1': (-3, 4)}\n",
    "noise = 1e-3\n",
    "def mccormick_function(X, noise=noise):\n",
    "    return - (np.sin(X[0] + X[1]) + (X[0] - X[1])**2 - 1.5*X[0] + 2.5*X[1] + 1) + noise * np.random.randn(*X[0].shape)\n"
   ]
  },
  {
   "cell_type": "code",
   "execution_count": 9,
   "metadata": {},
   "outputs": [
    {
     "ename": "IndexError",
     "evalue": "invalid index to scalar variable.",
     "output_type": "error",
     "traceback": [
      "\u001b[0;31m---------------------------------------------------------------------------\u001b[0m",
      "\u001b[0;31mIndexError\u001b[0m                                Traceback (most recent call last)",
      "\u001b[1;32m/home/wzhmiasanmia/ma_workspace/jax_mobo/mobo_np/sobo.ipynb 单元格 8\u001b[0m line \u001b[0;36m1\n\u001b[0;32m----> <a href='vscode-notebook-cell://wsl%2Bubuntu-20.04/home/wzhmiasanmia/ma_workspace/jax_mobo/mobo_np/sobo.ipynb#X10sdnNjb2RlLXJlbW90ZQ%3D%3D?line=0'>1</a>\u001b[0m optimizer_params \u001b[39m=\u001b[39m optim_process(mccormick_function, constrains, noise)\n\u001b[1;32m      <a href='vscode-notebook-cell://wsl%2Bubuntu-20.04/home/wzhmiasanmia/ma_workspace/jax_mobo/mobo_np/sobo.ipynb#X10sdnNjb2RlLXJlbW90ZQ%3D%3D?line=1'>2</a>\u001b[0m optimizer_params\u001b[39m.\u001b[39mtarget\n",
      "File \u001b[0;32m~/ma_workspace/jax_mobo/mobo_np/optim_process.py:83\u001b[0m, in \u001b[0;36moptim_process\u001b[0;34m(f, constrains, noise, acq, n_init, n_iter, plot_figure)\u001b[0m\n\u001b[1;32m     80\u001b[0m \u001b[39m# de-normalization\u001b[39;00m\n\u001b[1;32m     81\u001b[0m X_next \u001b[39m=\u001b[39m unnormalize(X_next_normal, bounds)\n\u001b[0;32m---> 83\u001b[0m Y_next \u001b[39m=\u001b[39m np\u001b[39m.\u001b[39marray([f(x) \u001b[39mfor\u001b[39;00m x \u001b[39min\u001b[39;00m X_next\u001b[39m.\u001b[39mT])\n\u001b[1;32m     84\u001b[0m \u001b[39m# visualization for surrogate function, samples and acquisition fucntion\u001b[39;00m\n\u001b[1;32m     85\u001b[0m \u001b[39mif\u001b[39;00m plot_figure:\n",
      "File \u001b[0;32m~/ma_workspace/jax_mobo/mobo_np/optim_process.py:83\u001b[0m, in \u001b[0;36m<listcomp>\u001b[0;34m(.0)\u001b[0m\n\u001b[1;32m     80\u001b[0m \u001b[39m# de-normalization\u001b[39;00m\n\u001b[1;32m     81\u001b[0m X_next \u001b[39m=\u001b[39m unnormalize(X_next_normal, bounds)\n\u001b[0;32m---> 83\u001b[0m Y_next \u001b[39m=\u001b[39m np\u001b[39m.\u001b[39marray([f(x) \u001b[39mfor\u001b[39;00m x \u001b[39min\u001b[39;00m X_next\u001b[39m.\u001b[39mT])\n\u001b[1;32m     84\u001b[0m \u001b[39m# visualization for surrogate function, samples and acquisition fucntion\u001b[39;00m\n\u001b[1;32m     85\u001b[0m \u001b[39mif\u001b[39;00m plot_figure:\n",
      "\u001b[1;32m/home/wzhmiasanmia/ma_workspace/jax_mobo/mobo_np/sobo.ipynb 单元格 8\u001b[0m line \u001b[0;36m4\n\u001b[1;32m      <a href='vscode-notebook-cell://wsl%2Bubuntu-20.04/home/wzhmiasanmia/ma_workspace/jax_mobo/mobo_np/sobo.ipynb#X10sdnNjb2RlLXJlbW90ZQ%3D%3D?line=2'>3</a>\u001b[0m \u001b[39mdef\u001b[39;00m \u001b[39mmccormick_function\u001b[39m(X, noise\u001b[39m=\u001b[39mnoise):\n\u001b[0;32m----> <a href='vscode-notebook-cell://wsl%2Bubuntu-20.04/home/wzhmiasanmia/ma_workspace/jax_mobo/mobo_np/sobo.ipynb#X10sdnNjb2RlLXJlbW90ZQ%3D%3D?line=3'>4</a>\u001b[0m     \u001b[39mreturn\u001b[39;00m \u001b[39m-\u001b[39m (np\u001b[39m.\u001b[39msin(X[\u001b[39m0\u001b[39;49m] \u001b[39m+\u001b[39m X[\u001b[39m1\u001b[39m]) \u001b[39m+\u001b[39m (X[\u001b[39m0\u001b[39m] \u001b[39m-\u001b[39m X[\u001b[39m1\u001b[39m])\u001b[39m*\u001b[39m\u001b[39m*\u001b[39m\u001b[39m2\u001b[39m \u001b[39m-\u001b[39m \u001b[39m1.5\u001b[39m\u001b[39m*\u001b[39mX[\u001b[39m0\u001b[39m] \u001b[39m+\u001b[39m \u001b[39m2.5\u001b[39m\u001b[39m*\u001b[39mX[\u001b[39m1\u001b[39m] \u001b[39m+\u001b[39m \u001b[39m1\u001b[39m) \u001b[39m+\u001b[39m noise \u001b[39m*\u001b[39m np\u001b[39m.\u001b[39mrandom\u001b[39m.\u001b[39mrandn(\u001b[39m*\u001b[39mX[\u001b[39m0\u001b[39m]\u001b[39m.\u001b[39mshape)\n",
      "\u001b[0;31mIndexError\u001b[0m: invalid index to scalar variable."
     ]
    }
   ],
   "source": [
    "optimizer_params = optim_process(mccormick_function, constrains, noise)\n",
    "optimizer_params.target"
   ]
  },
  {
   "cell_type": "code",
   "execution_count": null,
   "metadata": {},
   "outputs": [],
   "source": []
  }
 ],
 "metadata": {
  "kernelspec": {
   "display_name": "maenv",
   "language": "python",
   "name": "python3"
  },
  "language_info": {
   "codemirror_mode": {
    "name": "ipython",
    "version": 3
   },
   "file_extension": ".py",
   "mimetype": "text/x-python",
   "name": "python",
   "nbconvert_exporter": "python",
   "pygments_lexer": "ipython3",
   "version": "3.8.18"
  }
 },
 "nbformat": 4,
 "nbformat_minor": 2
}
