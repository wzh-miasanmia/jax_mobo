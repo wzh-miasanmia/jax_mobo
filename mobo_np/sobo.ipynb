{
 "cells": [
  {
   "cell_type": "code",
   "execution_count": 1,
   "metadata": {},
   "outputs": [],
   "source": [
    "import numpy as np"
   ]
  },
  {
   "cell_type": "markdown",
   "metadata": {},
   "source": [
    "1d situation"
   ]
  },
  {
   "cell_type": "code",
   "execution_count": 2,
   "metadata": {},
   "outputs": [],
   "source": [
    "noise = 1e-3\n",
    "def f(X, noise=noise):\n",
    "    return -np.sin(3*X) - X**2 + 0.7*X + noise * np.random.randn(*X.shape)\n",
    "constrains = {'X': (-1.0, 2.0)}"
   ]
  },
  {
   "cell_type": "markdown",
   "metadata": {},
   "source": [
    "optimization"
   ]
  },
  {
   "cell_type": "code",
   "execution_count": 3,
   "metadata": {},
   "outputs": [
    {
     "data": {
      "text/plain": [
       "0.4992307532517553"
      ]
     },
     "execution_count": 3,
     "metadata": {},
     "output_type": "execute_result"
    }
   ],
   "source": [
    "from optim_process import optim_process\n",
    "optimizer_params = optim_process(f, constrains, noise)\n",
    "optimizer_params.target"
   ]
  },
  {
   "cell_type": "markdown",
   "metadata": {},
   "source": [
    "2d situation"
   ]
  },
  {
   "cell_type": "code",
   "execution_count": 4,
   "metadata": {},
   "outputs": [],
   "source": [
    "constrains = {'x': (-1.5, 4), 'y': (-3, 4)}\n",
    "noise = 1e-3\n",
    "def mccormick_function(x, y,noise):\n",
    "    return - (np.sin(x + y) + (x - y)**2 - 1.5*x + 2.5*y + 1) + noise * np.random.randn(*x.shape)\n"
   ]
  },
  {
   "cell_type": "code",
   "execution_count": 7,
   "metadata": {},
   "outputs": [
    {
     "ename": "ValueError",
     "evalue": "all the input array dimensions except for the concatenation axis must match exactly, but along dimension 1, the array at index 0 has size 2 and the array at index 1 has size 1",
     "output_type": "error",
     "traceback": [
      "\u001b[0;31m---------------------------------------------------------------------------\u001b[0m",
      "\u001b[0;31mValueError\u001b[0m                                Traceback (most recent call last)",
      "\u001b[1;32m/Users/wzh-miasanmia/Desktop/TUM course/Masterarbeit/code/jax_mobo/mobo_np/sobo.ipynb Cell 8\u001b[0m line \u001b[0;36m1\n\u001b[0;32m----> <a href='vscode-notebook-cell:/Users/wzh-miasanmia/Desktop/TUM%20course/Masterarbeit/code/jax_mobo/mobo_np/sobo.ipynb#X10sZmlsZQ%3D%3D?line=0'>1</a>\u001b[0m optimizer_params \u001b[39m=\u001b[39m optim_process(mccormick_function, constrains, noise)\n\u001b[1;32m      <a href='vscode-notebook-cell:/Users/wzh-miasanmia/Desktop/TUM%20course/Masterarbeit/code/jax_mobo/mobo_np/sobo.ipynb#X10sZmlsZQ%3D%3D?line=1'>2</a>\u001b[0m optimizer_params\u001b[39m.\u001b[39mtarget\n",
      "File \u001b[0;32m~/Desktop/TUM course/Masterarbeit/code/jax_mobo/mobo_np/optim_process.py:78\u001b[0m, in \u001b[0;36moptim_process\u001b[0;34m(f, constrains, noise, acq, n_init, n_iter, plot_figure)\u001b[0m\n\u001b[1;32m     75\u001b[0m     plt\u001b[39m.\u001b[39mtitle(\u001b[39mf\u001b[39m\u001b[39m'\u001b[39m\u001b[39mIteration \u001b[39m\u001b[39m{\u001b[39;00mi\u001b[39m-\u001b[39mn_init\u001b[39m+\u001b[39m\u001b[39m1\u001b[39m\u001b[39m}\u001b[39;00m\u001b[39m'\u001b[39m)\n\u001b[1;32m     77\u001b[0m \u001b[39m# Add sample to previous samples\u001b[39;00m\n\u001b[0;32m---> 78\u001b[0m X_sample \u001b[39m=\u001b[39m np\u001b[39m.\u001b[39;49mvstack((X_sample, X_next))\n\u001b[1;32m     79\u001b[0m Y_sample \u001b[39m=\u001b[39m np\u001b[39m.\u001b[39mvstack((Y_sample, Y_next))\n\u001b[1;32m     80\u001b[0m gpr\u001b[39m.\u001b[39mfit(X_sample, Y_sample)\n",
      "File \u001b[0;32m/Applications/anaconda3/envs/maenv/lib/python3.9/site-packages/numpy/core/shape_base.py:289\u001b[0m, in \u001b[0;36mvstack\u001b[0;34m(tup, dtype, casting)\u001b[0m\n\u001b[1;32m    287\u001b[0m \u001b[39mif\u001b[39;00m \u001b[39mnot\u001b[39;00m \u001b[39misinstance\u001b[39m(arrs, \u001b[39mlist\u001b[39m):\n\u001b[1;32m    288\u001b[0m     arrs \u001b[39m=\u001b[39m [arrs]\n\u001b[0;32m--> 289\u001b[0m \u001b[39mreturn\u001b[39;00m _nx\u001b[39m.\u001b[39;49mconcatenate(arrs, \u001b[39m0\u001b[39;49m, dtype\u001b[39m=\u001b[39;49mdtype, casting\u001b[39m=\u001b[39;49mcasting)\n",
      "\u001b[0;31mValueError\u001b[0m: all the input array dimensions except for the concatenation axis must match exactly, but along dimension 1, the array at index 0 has size 2 and the array at index 1 has size 1"
     ]
    }
   ],
   "source": [
    "optimizer_params = optim_process(mccormick_function, constrains, noise)\n",
    "optimizer_params.target"
   ]
  },
  {
   "cell_type": "code",
   "execution_count": null,
   "metadata": {},
   "outputs": [],
   "source": []
  }
 ],
 "metadata": {
  "kernelspec": {
   "display_name": "maenv",
   "language": "python",
   "name": "python3"
  },
  "language_info": {
   "codemirror_mode": {
    "name": "ipython",
    "version": 3
   },
   "file_extension": ".py",
   "mimetype": "text/x-python",
   "name": "python",
   "nbconvert_exporter": "python",
   "pygments_lexer": "ipython3",
   "version": "3.9.18"
  }
 },
 "nbformat": 4,
 "nbformat_minor": 2
}
