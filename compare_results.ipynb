{
 "cells": [
  {
   "cell_type": "code",
   "execution_count": 1,
   "metadata": {},
   "outputs": [],
   "source": [
    "import pandas as pd\n",
    "import numpy as np\n",
    "import math\n",
    "import csv\n",
    "from imp.imp_postprocessing import calculate_fdisper, get_file_list\n",
    "from tgv.tgv_postprocessing import calculate_ftke, calculate_fcons\n",
    "\n",
    "def get_results(para):\n",
    "\n",
    "    ## imp\n",
    "    target_folder_name_imp = f\"imp/results/fullimplosion_{str(para[0])}_{str(para[1])}_{str(para[2])}\"\n",
    "    test_file = get_file_list(f\"{target_folder_name_imp}/domain/data_*.h5\")\n",
    "    if test_file.endswith('nan.h5'):\n",
    "        fdisper = 9\n",
    "    else:\n",
    "        fdisper = calculate_fdisper(target_folder_name_imp)\n",
    "        fdisper = np.round(fdisper, 4)\n",
    "\n",
    "    ## tgv\n",
    "    target_folder_name_tgv = f\"tgv/results/tgv_{str(para[0])}_{str(para[1])}_{str(para[2])}\"\n",
    "    # tgv_tke\n",
    "    ftke = calculate_ftke(f\"{target_folder_name_tgv}/domain/data_*.h5\")\n",
    "    ftke = np.round(ftke, 4)\n",
    "    if math.isnan(ftke):\n",
    "        ftke = 4\n",
    "    \n",
    "    # tgv_cons\n",
    "    fcons = calculate_fcons(f\"{target_folder_name_tgv}/domain/data_*.h5\")\n",
    "    fcons = np.round(fcons, 4)\n",
    "    if math.isnan(fcons):\n",
    "        fcons = 1\n",
    "    return np.array([fdisper, ftke, fcons])"
   ]
  },
  {
   "cell_type": "code",
   "execution_count": 2,
   "metadata": {},
   "outputs": [
    {
     "name": "stdout",
     "output_type": "stream",
     "text": [
      "Load imp/results/fullimplosion_0.7656_0.4853_0.1721/domain/data_2.5004437182.h5\n",
      "Load tgv/results/tgv_0.7656_0.4853_0.1721/domain/data_10.0009192535.h5\n",
      "Load tgv/results/tgv_0.7656_0.4853_0.1721/domain/data_10.0009192535.h5\n",
      "(64, 64, 64)\n",
      "Load tgv/results/tgv_0.7656_0.4853_0.1721/domain/data_10.0009192535.h5\n",
      "(64, 64, 64)\n",
      "Load tgv/results/tgv_0.7656_0.4853_0.1721/domain/data_10.0009192535.h5\n",
      "(64, 64, 64)\n",
      "Load tgv/results/tgv_0.7656_0.4853_0.1721/domain/data_10.0009192535.h5\n",
      "(64, 64, 64)\n",
      "19.206915790553918\n",
      "Load imp/results/fullimplosion_0.8154_0.3229_0.0235/domain/data_2.5002517899.h5\n",
      "Load tgv/results/tgv_0.8154_0.3229_0.0235/domain/data_10.0000075754.h5\n",
      "Load tgv/results/tgv_0.8154_0.3229_0.0235/domain/data_10.0000075754.h5\n",
      "(64, 64, 64)\n",
      "Load tgv/results/tgv_0.8154_0.3229_0.0235/domain/data_10.0000075754.h5\n",
      "(64, 64, 64)\n",
      "Load tgv/results/tgv_0.8154_0.3229_0.0235/domain/data_10.0000075754.h5\n",
      "(64, 64, 64)\n",
      "Load tgv/results/tgv_0.8154_0.3229_0.0235/domain/data_10.0000075754.h5\n",
      "(64, 64, 64)\n",
      "13.16111322013602\n",
      "[ 0.1927 -0.9468  0.0501] [ 0.1569 -0.9908 -0.2804]\n"
     ]
    }
   ],
   "source": [
    "para_1 = [0.7656,0.4853,0.1721]\n",
    "results_1 = get_results(para_1)\n",
    "\n",
    "para_2 = [0.8154,0.3229,0.0235]\n",
    "results_2 = get_results(para_2)\n",
    "\n",
    "print(results_1, results_2)"
   ]
  },
  {
   "cell_type": "code",
   "execution_count": 4,
   "metadata": {},
   "outputs": [
    {
     "data": {
      "text/plain": [
       "(fdisper    0.144819\n",
       " ftke      -0.032115\n",
       " fcons     -2.029516\n",
       " dtype: float64,\n",
       " 0   -0.043366\n",
       " 1    0.623618\n",
       " Name: f_obj_CV, dtype: float64)"
      ]
     },
     "execution_count": 4,
     "metadata": {},
     "output_type": "execute_result"
    }
   ],
   "source": [
    "file = \"compare_results.csv\"\n",
    "df = pd.read_csv(file)\n",
    "CVs = df[['fdisper', 'ftke', 'fcons']].apply(lambda x: x.std() / x.mean())\n",
    "df['f_obj_CV'] = (df[['fdisper', 'ftke', 'fcons']] * CVs).sum(axis=1)\n",
    "CVs, df['f_obj_CV']"
   ]
  },
  {
   "cell_type": "code",
   "execution_count": null,
   "metadata": {},
   "outputs": [],
   "source": []
  }
 ],
 "metadata": {
  "kernelspec": {
   "display_name": "maenv",
   "language": "python",
   "name": "python3"
  },
  "language_info": {
   "codemirror_mode": {
    "name": "ipython",
    "version": 3
   },
   "file_extension": ".py",
   "mimetype": "text/x-python",
   "name": "python",
   "nbconvert_exporter": "python",
   "pygments_lexer": "ipython3",
   "version": "3.8.18"
  }
 },
 "nbformat": 4,
 "nbformat_minor": 2
}
