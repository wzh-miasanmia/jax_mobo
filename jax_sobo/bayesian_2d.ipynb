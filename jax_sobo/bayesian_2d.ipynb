{
 "cells": [
  {
   "cell_type": "code",
   "execution_count": null,
   "metadata": {},
   "outputs": [],
   "source": [
    "constrains = {'x': (-10, 10), 'y': (0, 10)}\n",
    "noise = 0.01\n",
    "n_init = 5 \n",
    "dim = 2"
   ]
  },
  {
   "cell_type": "code",
   "execution_count": null,
   "metadata": {},
   "outputs": [],
   "source": [
    "def f(x, y):\n",
    "    return -y ** 2 - (x - y) ** 2 + 3 * x / y - 2 + noise * random.normal(random.PRNGKey(0), x.shape)\n",
    "\n"
   ]
  },
  {
   "cell_type": "code",
   "execution_count": null,
   "metadata": {},
   "outputs": [],
   "source": [
    "optimizer_params = optim_process(\n",
    "    f,\n",
    "    constrains,\n",
    "    noise,\n",
    "    n_init = n_init,\n",
    "    seed = 42,\n",
    "    dim = dim,\n",
    "    n = 40,\n",
    "    num_steps = 40,\n",
    "    lr = 0.01)"
   ]
  },
  {
   "cell_type": "code",
   "execution_count": null,
   "metadata": {},
   "outputs": [],
   "source": [
    "optimizer_params.target"
   ]
  },
  {
   "cell_type": "code",
   "execution_count": null,
   "metadata": {},
   "outputs": [],
   "source": [
    "optimizer_params.params"
   ]
  }
 ],
 "metadata": {
  "language_info": {
   "name": "python"
  }
 },
 "nbformat": 4,
 "nbformat_minor": 2
}
