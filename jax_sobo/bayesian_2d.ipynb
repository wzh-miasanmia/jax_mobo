{
 "cells": [
  {
   "cell_type": "code",
   "execution_count": 1,
   "metadata": {},
   "outputs": [],
   "source": [
    "%matplotlib inline\n",
    "import jax\n",
    "import jax.numpy as jnp\n",
    "from jax import random, vmap\n",
    "import matplotlib.pyplot as plt\n",
    "import numpy as np\n",
    "from optim_process import optim_process\n",
    "import screen"
   ]
  },
  {
   "cell_type": "code",
   "execution_count": 2,
   "metadata": {},
   "outputs": [],
   "source": [
    "constrains = {'x': (-10, 10), 'y': (0, 10)}\n",
    "noise = 0.01\n",
    "n_init = 3\n",
    "dim = 2"
   ]
  },
  {
   "cell_type": "code",
   "execution_count": 3,
   "metadata": {},
   "outputs": [],
   "source": [
    "def f(x, y):\n",
    "    return -y ** 2 - (x - y) ** 2 + 3 * x / y - 2 + noise * random.normal(random.PRNGKey(0), x.shape)\n",
    "\n"
   ]
  },
  {
   "cell_type": "code",
   "execution_count": 11,
   "metadata": {},
   "outputs": [
    {
     "ename": "TypeError",
     "evalue": "mul got incompatible shapes for broadcasting: (1, 2), (43, 43).",
     "output_type": "error",
     "traceback": [
      "\u001b[0;31m---------------------------------------------------------------------------\u001b[0m",
      "\u001b[0;31mTypeError\u001b[0m                                 Traceback (most recent call last)",
      "\u001b[1;32m/home/wzhmiasanmia/ma_workspace/jax_mobo/jax_sobo/bayesian_2d.ipynb 单元格 4\u001b[0m line \u001b[0;36m1\n\u001b[0;32m----> <a href='vscode-notebook-cell://wsl%2Bubuntu-20.04/home/wzhmiasanmia/ma_workspace/jax_mobo/jax_sobo/bayesian_2d.ipynb#W2sdnNjb2RlLXJlbW90ZQ%3D%3D?line=0'>1</a>\u001b[0m optimizer_params \u001b[39m=\u001b[39m optim_process(\n\u001b[1;32m      <a href='vscode-notebook-cell://wsl%2Bubuntu-20.04/home/wzhmiasanmia/ma_workspace/jax_mobo/jax_sobo/bayesian_2d.ipynb#W2sdnNjb2RlLXJlbW90ZQ%3D%3D?line=1'>2</a>\u001b[0m     f,\n\u001b[1;32m      <a href='vscode-notebook-cell://wsl%2Bubuntu-20.04/home/wzhmiasanmia/ma_workspace/jax_mobo/jax_sobo/bayesian_2d.ipynb#W2sdnNjb2RlLXJlbW90ZQ%3D%3D?line=2'>3</a>\u001b[0m     constrains,\n\u001b[1;32m      <a href='vscode-notebook-cell://wsl%2Bubuntu-20.04/home/wzhmiasanmia/ma_workspace/jax_mobo/jax_sobo/bayesian_2d.ipynb#W2sdnNjb2RlLXJlbW90ZQ%3D%3D?line=3'>4</a>\u001b[0m     noise,\n\u001b[1;32m      <a href='vscode-notebook-cell://wsl%2Bubuntu-20.04/home/wzhmiasanmia/ma_workspace/jax_mobo/jax_sobo/bayesian_2d.ipynb#W2sdnNjb2RlLXJlbW90ZQ%3D%3D?line=4'>5</a>\u001b[0m     n_init \u001b[39m=\u001b[39;49m n_init,\n\u001b[1;32m      <a href='vscode-notebook-cell://wsl%2Bubuntu-20.04/home/wzhmiasanmia/ma_workspace/jax_mobo/jax_sobo/bayesian_2d.ipynb#W2sdnNjb2RlLXJlbW90ZQ%3D%3D?line=5'>6</a>\u001b[0m     seed \u001b[39m=\u001b[39;49m \u001b[39m42\u001b[39;49m,\n\u001b[1;32m      <a href='vscode-notebook-cell://wsl%2Bubuntu-20.04/home/wzhmiasanmia/ma_workspace/jax_mobo/jax_sobo/bayesian_2d.ipynb#W2sdnNjb2RlLXJlbW90ZQ%3D%3D?line=6'>7</a>\u001b[0m     dim \u001b[39m=\u001b[39;49m dim,\n\u001b[1;32m      <a href='vscode-notebook-cell://wsl%2Bubuntu-20.04/home/wzhmiasanmia/ma_workspace/jax_mobo/jax_sobo/bayesian_2d.ipynb#W2sdnNjb2RlLXJlbW90ZQ%3D%3D?line=7'>8</a>\u001b[0m     n \u001b[39m=\u001b[39;49m \u001b[39m40\u001b[39;49m,\n\u001b[1;32m      <a href='vscode-notebook-cell://wsl%2Bubuntu-20.04/home/wzhmiasanmia/ma_workspace/jax_mobo/jax_sobo/bayesian_2d.ipynb#W2sdnNjb2RlLXJlbW90ZQ%3D%3D?line=8'>9</a>\u001b[0m     num_steps \u001b[39m=\u001b[39;49m \u001b[39m40\u001b[39;49m,\n\u001b[1;32m     <a href='vscode-notebook-cell://wsl%2Bubuntu-20.04/home/wzhmiasanmia/ma_workspace/jax_mobo/jax_sobo/bayesian_2d.ipynb#W2sdnNjb2RlLXJlbW90ZQ%3D%3D?line=9'>10</a>\u001b[0m     lr \u001b[39m=\u001b[39;49m \u001b[39m0.01\u001b[39;49m,\n\u001b[1;32m     <a href='vscode-notebook-cell://wsl%2Bubuntu-20.04/home/wzhmiasanmia/ma_workspace/jax_mobo/jax_sobo/bayesian_2d.ipynb#W2sdnNjb2RlLXJlbW90ZQ%3D%3D?line=10'>11</a>\u001b[0m     plot_figure \u001b[39m=\u001b[39;49m \u001b[39mFalse\u001b[39;49;00m)\n",
      "File \u001b[0;32m~/ma_workspace/jax_mobo/jax_sobo/optim_process.py:68\u001b[0m, in \u001b[0;36moptim_process\u001b[0;34m(f, constrains, noise, n_init, seed, dim, n, num_steps, lr, plot_figure)\u001b[0m\n\u001b[1;32m     65\u001b[0m \u001b[39m# optimize loop\u001b[39;00m\n\u001b[1;32m     66\u001b[0m \u001b[39mfor\u001b[39;00m idx \u001b[39min\u001b[39;00m \u001b[39mrange\u001b[39m(n_init, n \u001b[39m+\u001b[39m n_init):\n\u001b[1;32m     67\u001b[0m     \u001b[39m# optimize hyper-parameters of GP\u001b[39;00m\n\u001b[0;32m---> 68\u001b[0m     params, momentums, scales  \u001b[39m=\u001b[39m gp\u001b[39m.\u001b[39;49moptimize_mll(params, X, Y, momentums, scales, noise, num_steps, lr)\n\u001b[1;32m     69\u001b[0m     momentums \u001b[39m=\u001b[39m tree_map(\u001b[39mlambda\u001b[39;00m x: x \u001b[39m*\u001b[39m \u001b[39m0\u001b[39m, params)\n\u001b[1;32m     70\u001b[0m     scales \u001b[39m=\u001b[39m tree_map(\u001b[39mlambda\u001b[39;00m x: x \u001b[39m*\u001b[39m \u001b[39m0\u001b[39m \u001b[39m+\u001b[39m \u001b[39m1\u001b[39m, params)  \n",
      "File \u001b[0;32m~/ma_workspace/jax_mobo/jax_sobo/gp.py:122\u001b[0m, in \u001b[0;36moptimize_mll\u001b[0;34m(params, X_train, Y_train, momentums, scales, noise, num_steps, lr)\u001b[0m\n\u001b[1;32m    114\u001b[0m     params \u001b[39m=\u001b[39m tree_util\u001b[39m.\u001b[39mtree_map(\n\u001b[1;32m    115\u001b[0m         \u001b[39mlambda\u001b[39;00m p, m, s: p \u001b[39m-\u001b[39m lr \u001b[39m*\u001b[39m m \u001b[39m/\u001b[39m jnp\u001b[39m.\u001b[39msqrt(s \u001b[39m+\u001b[39m \u001b[39m1e-5\u001b[39m),\n\u001b[1;32m    116\u001b[0m         params,\n\u001b[1;32m    117\u001b[0m         momentums,\n\u001b[1;32m    118\u001b[0m         scales,\n\u001b[1;32m    119\u001b[0m     )\n\u001b[1;32m    120\u001b[0m     \u001b[39mreturn\u001b[39;00m params, momentums, scales\n\u001b[0;32m--> 122\u001b[0m params, momentums, scales \u001b[39m=\u001b[39m lax\u001b[39m.\u001b[39;49mfori_loop(\n\u001b[1;32m    123\u001b[0m     \u001b[39m0\u001b[39;49m,\n\u001b[1;32m    124\u001b[0m     num_steps,\n\u001b[1;32m    125\u001b[0m     \u001b[39mlambda\u001b[39;49;00m _, v: train_step(\u001b[39m*\u001b[39;49mv),\n\u001b[1;32m    126\u001b[0m     (params, momentums, scales),\n\u001b[1;32m    127\u001b[0m )\n\u001b[1;32m    129\u001b[0m \u001b[39mreturn\u001b[39;00m params, momentums, scales\n",
      "    \u001b[0;31m[... skipping hidden 12 frame]\u001b[0m\n",
      "File \u001b[0;32m~/ma_workspace/jax_mobo/jax_sobo/gp.py:125\u001b[0m, in \u001b[0;36moptimize_mll.<locals>.<lambda>\u001b[0;34m(_, v)\u001b[0m\n\u001b[1;32m    114\u001b[0m     params \u001b[39m=\u001b[39m tree_util\u001b[39m.\u001b[39mtree_map(\n\u001b[1;32m    115\u001b[0m         \u001b[39mlambda\u001b[39;00m p, m, s: p \u001b[39m-\u001b[39m lr \u001b[39m*\u001b[39m m \u001b[39m/\u001b[39m jnp\u001b[39m.\u001b[39msqrt(s \u001b[39m+\u001b[39m \u001b[39m1e-5\u001b[39m),\n\u001b[1;32m    116\u001b[0m         params,\n\u001b[1;32m    117\u001b[0m         momentums,\n\u001b[1;32m    118\u001b[0m         scales,\n\u001b[1;32m    119\u001b[0m     )\n\u001b[1;32m    120\u001b[0m     \u001b[39mreturn\u001b[39;00m params, momentums, scales\n\u001b[1;32m    122\u001b[0m params, momentums, scales \u001b[39m=\u001b[39m lax\u001b[39m.\u001b[39mfori_loop(\n\u001b[1;32m    123\u001b[0m     \u001b[39m0\u001b[39m,\n\u001b[1;32m    124\u001b[0m     num_steps,\n\u001b[0;32m--> 125\u001b[0m     \u001b[39mlambda\u001b[39;00m _, v: train_step(\u001b[39m*\u001b[39;49mv),\n\u001b[1;32m    126\u001b[0m     (params, momentums, scales),\n\u001b[1;32m    127\u001b[0m )\n\u001b[1;32m    129\u001b[0m \u001b[39mreturn\u001b[39;00m params, momentums, scales\n",
      "File \u001b[0;32m~/ma_workspace/jax_mobo/jax_sobo/gp.py:107\u001b[0m, in \u001b[0;36moptimize_mll.<locals>.train_step\u001b[0;34m(params, momentums, scales)\u001b[0m\n\u001b[1;32m    104\u001b[0m \u001b[39mdef\u001b[39;00m \u001b[39mtrain_step\u001b[39m(\n\u001b[1;32m    105\u001b[0m     params, momentums, scales,\n\u001b[1;32m    106\u001b[0m ):\n\u001b[0;32m--> 107\u001b[0m     grads \u001b[39m=\u001b[39m grad_fun(params, X_train, Y_train, noise)\n\u001b[1;32m    108\u001b[0m     momentums \u001b[39m=\u001b[39m tree_util\u001b[39m.\u001b[39mtree_map(\n\u001b[1;32m    109\u001b[0m         \u001b[39mlambda\u001b[39;00m m, g: \u001b[39m0.9\u001b[39m \u001b[39m*\u001b[39m m \u001b[39m+\u001b[39m \u001b[39m0.1\u001b[39m \u001b[39m*\u001b[39m g, momentums, grads\n\u001b[1;32m    110\u001b[0m     )\n\u001b[1;32m    111\u001b[0m     scales \u001b[39m=\u001b[39m tree_util\u001b[39m.\u001b[39mtree_map(\n\u001b[1;32m    112\u001b[0m         \u001b[39mlambda\u001b[39;00m s, g: \u001b[39m0.9\u001b[39m \u001b[39m*\u001b[39m s \u001b[39m+\u001b[39m \u001b[39m0.1\u001b[39m \u001b[39m*\u001b[39m g \u001b[39m*\u001b[39m\u001b[39m*\u001b[39m \u001b[39m2\u001b[39m, scales, grads\n\u001b[1;32m    113\u001b[0m     )\n",
      "    \u001b[0;31m[... skipping hidden 22 frame]\u001b[0m\n",
      "File \u001b[0;32m~/ma_workspace/jax_mobo/jax_sobo/gp.py:79\u001b[0m, in \u001b[0;36mmll\u001b[0;34m(params, X_train, Y_train, noise)\u001b[0m\n\u001b[1;32m     77\u001b[0m \u001b[39mdef\u001b[39;00m \u001b[39mmll\u001b[39m(params, X_train, Y_train, noise):\n\u001b[1;32m     78\u001b[0m     ls,amp \u001b[39m=\u001b[39m tree_util\u001b[39m.\u001b[39mtree_map(softplus, params)\n\u001b[0;32m---> 79\u001b[0m     K \u001b[39m=\u001b[39m kernel_jit(X_train, X_train, l\u001b[39m=\u001b[39;49mls, sigma_f\u001b[39m=\u001b[39;49mamp) \u001b[39m+\u001b[39m \\\n\u001b[1;32m     80\u001b[0m         noise\u001b[39m*\u001b[39m\u001b[39m*\u001b[39m\u001b[39m2\u001b[39m \u001b[39m*\u001b[39m jnp\u001b[39m.\u001b[39meye(\u001b[39mlen\u001b[39m(X_train))\n\u001b[1;32m     81\u001b[0m     L \u001b[39m=\u001b[39m cholesky(K)\n\u001b[1;32m     82\u001b[0m     S1 \u001b[39m=\u001b[39m solve_triangular(L, Y_train, lower\u001b[39m=\u001b[39m\u001b[39mTrue\u001b[39;00m)\n",
      "    \u001b[0;31m[... skipping hidden 12 frame]\u001b[0m\n",
      "File \u001b[0;32m~/ma_workspace/jax_mobo/jax_sobo/gp.py:27\u001b[0m, in \u001b[0;36mkernel\u001b[0;34m(X1, X2, l, sigma_f)\u001b[0m\n\u001b[1;32m     16\u001b[0m \u001b[39m\u001b[39m\u001b[39m\"\"\"\u001b[39;00m\n\u001b[1;32m     17\u001b[0m \u001b[39mIsotropic squared exponential kernel.\u001b[39;00m\n\u001b[1;32m     18\u001b[0m \u001b[39m\u001b[39;00m\n\u001b[0;32m   (...)\u001b[0m\n\u001b[1;32m     24\u001b[0m \u001b[39m    (m x n) matrix.\u001b[39;00m\n\u001b[1;32m     25\u001b[0m \u001b[39m\"\"\"\u001b[39;00m\n\u001b[1;32m     26\u001b[0m sqdist \u001b[39m=\u001b[39m jnp\u001b[39m.\u001b[39msum(X1\u001b[39m*\u001b[39m\u001b[39m*\u001b[39m\u001b[39m2\u001b[39m, axis\u001b[39m=\u001b[39m\u001b[39m1\u001b[39m)\u001b[39m.\u001b[39mreshape((\u001b[39m-\u001b[39m\u001b[39m1\u001b[39m, \u001b[39m1\u001b[39m)) \u001b[39m+\u001b[39m jnp\u001b[39m.\u001b[39msum(X2\u001b[39m*\u001b[39m\u001b[39m*\u001b[39m\u001b[39m2\u001b[39m, axis\u001b[39m=\u001b[39m\u001b[39m1\u001b[39m) \u001b[39m-\u001b[39m \u001b[39m2\u001b[39m \u001b[39m*\u001b[39m jnp\u001b[39m.\u001b[39mdot(X1, X2\u001b[39m.\u001b[39mT)\n\u001b[0;32m---> 27\u001b[0m \u001b[39mreturn\u001b[39;00m sigma_f\u001b[39m*\u001b[39m\u001b[39m*\u001b[39m\u001b[39m2\u001b[39m \u001b[39m*\u001b[39m jnp\u001b[39m.\u001b[39mexp(\u001b[39m-\u001b[39;49m\u001b[39m0.5\u001b[39;49m \u001b[39m/\u001b[39;49m l\u001b[39m*\u001b[39;49m\u001b[39m*\u001b[39;49m\u001b[39m2\u001b[39;49m \u001b[39m*\u001b[39;49m sqdist)\n",
      "File \u001b[0;32m~/miniconda3/envs/maenv/lib/python3.8/site-packages/jax/_src/numpy/array_methods.py:791\u001b[0m, in \u001b[0;36m_forward_operator_to_aval.<locals>.op\u001b[0;34m(self, *args)\u001b[0m\n\u001b[1;32m    790\u001b[0m \u001b[39mdef\u001b[39;00m \u001b[39mop\u001b[39m(\u001b[39mself\u001b[39m, \u001b[39m*\u001b[39margs):\n\u001b[0;32m--> 791\u001b[0m   \u001b[39mreturn\u001b[39;00m \u001b[39mgetattr\u001b[39;49m(\u001b[39mself\u001b[39;49m\u001b[39m.\u001b[39;49maval, \u001b[39mf\u001b[39;49m\u001b[39m\"\u001b[39;49m\u001b[39m_\u001b[39;49m\u001b[39m{\u001b[39;49;00mname\u001b[39m}\u001b[39;49;00m\u001b[39m\"\u001b[39;49m)(\u001b[39mself\u001b[39;49m, \u001b[39m*\u001b[39;49margs)\n",
      "File \u001b[0;32m~/miniconda3/envs/maenv/lib/python3.8/site-packages/jax/_src/numpy/array_methods.py:258\u001b[0m, in \u001b[0;36m_defer_to_unrecognized_arg.<locals>.deferring_binary_op\u001b[0;34m(self, other)\u001b[0m\n\u001b[1;32m    256\u001b[0m args \u001b[39m=\u001b[39m (other, \u001b[39mself\u001b[39m) \u001b[39mif\u001b[39;00m swap \u001b[39melse\u001b[39;00m (\u001b[39mself\u001b[39m, other)\n\u001b[1;32m    257\u001b[0m \u001b[39mif\u001b[39;00m \u001b[39misinstance\u001b[39m(other, _accepted_binop_types):\n\u001b[0;32m--> 258\u001b[0m   \u001b[39mreturn\u001b[39;00m binary_op(\u001b[39m*\u001b[39;49margs)\n\u001b[1;32m    259\u001b[0m \u001b[39mif\u001b[39;00m \u001b[39misinstance\u001b[39m(other, _rejected_binop_types):\n\u001b[1;32m    260\u001b[0m   \u001b[39mraise\u001b[39;00m \u001b[39mTypeError\u001b[39;00m(\u001b[39mf\u001b[39m\u001b[39m\"\u001b[39m\u001b[39munsupported operand type(s) for \u001b[39m\u001b[39m{\u001b[39;00mopchar\u001b[39m}\u001b[39;00m\u001b[39m: \u001b[39m\u001b[39m\"\u001b[39m\n\u001b[1;32m    261\u001b[0m                   \u001b[39mf\u001b[39m\u001b[39m\"\u001b[39m\u001b[39m{\u001b[39;00m\u001b[39mtype\u001b[39m(args[\u001b[39m0\u001b[39m])\u001b[39m.\u001b[39m\u001b[39m__name__\u001b[39m\u001b[39m!r}\u001b[39;00m\u001b[39m and \u001b[39m\u001b[39m{\u001b[39;00m\u001b[39mtype\u001b[39m(args[\u001b[39m1\u001b[39m])\u001b[39m.\u001b[39m\u001b[39m__name__\u001b[39m\u001b[39m!r}\u001b[39;00m\u001b[39m\"\u001b[39m)\n",
      "    \u001b[0;31m[... skipping hidden 12 frame]\u001b[0m\n",
      "File \u001b[0;32m~/miniconda3/envs/maenv/lib/python3.8/site-packages/jax/_src/numpy/ufuncs.py:97\u001b[0m, in \u001b[0;36m_maybe_bool_binop.<locals>.fn\u001b[0;34m(x1, x2)\u001b[0m\n\u001b[1;32m     95\u001b[0m \u001b[39mdef\u001b[39;00m \u001b[39mfn\u001b[39m(x1, x2, \u001b[39m/\u001b[39m):\n\u001b[1;32m     96\u001b[0m   x1, x2 \u001b[39m=\u001b[39m promote_args(numpy_fn\u001b[39m.\u001b[39m\u001b[39m__name__\u001b[39m, x1, x2)\n\u001b[0;32m---> 97\u001b[0m   \u001b[39mreturn\u001b[39;00m lax_fn(x1, x2) \u001b[39mif\u001b[39;00m x1\u001b[39m.\u001b[39mdtype \u001b[39m!=\u001b[39m np\u001b[39m.\u001b[39mbool_ \u001b[39melse\u001b[39;00m bool_lax_fn(x1, x2)\n",
      "    \u001b[0;31m[... skipping hidden 7 frame]\u001b[0m\n",
      "File \u001b[0;32m~/miniconda3/envs/maenv/lib/python3.8/site-packages/jax/_src/lax/lax.py:1579\u001b[0m, in \u001b[0;36mbroadcasting_shape_rule\u001b[0;34m(name, *avals)\u001b[0m\n\u001b[1;32m   1577\u001b[0m       result_shape\u001b[39m.\u001b[39mappend(non_1s[\u001b[39m0\u001b[39m])\n\u001b[1;32m   1578\u001b[0m     \u001b[39melse\u001b[39;00m:\n\u001b[0;32m-> 1579\u001b[0m       \u001b[39mraise\u001b[39;00m \u001b[39mTypeError\u001b[39;00m(\u001b[39mf\u001b[39m\u001b[39m'\u001b[39m\u001b[39m{\u001b[39;00mname\u001b[39m}\u001b[39;00m\u001b[39m got incompatible shapes for broadcasting: \u001b[39m\u001b[39m'\u001b[39m\n\u001b[1;32m   1580\u001b[0m                       \u001b[39mf\u001b[39m\u001b[39m'\u001b[39m\u001b[39m{\u001b[39;00m\u001b[39m\"\u001b[39m\u001b[39m, \u001b[39m\u001b[39m\"\u001b[39m\u001b[39m.\u001b[39mjoin(\u001b[39mmap\u001b[39m(\u001b[39mstr\u001b[39m,\u001b[39m \u001b[39m\u001b[39mmap\u001b[39m(\u001b[39mtuple\u001b[39m,\u001b[39m \u001b[39mshapes)))\u001b[39m}\u001b[39;00m\u001b[39m.\u001b[39m\u001b[39m'\u001b[39m)\n\u001b[1;32m   1582\u001b[0m \u001b[39mreturn\u001b[39;00m \u001b[39mtuple\u001b[39m(result_shape)\n",
      "\u001b[0;31mTypeError\u001b[0m: mul got incompatible shapes for broadcasting: (1, 2), (43, 43)."
     ]
    }
   ],
   "source": [
    "optimizer_params = optim_process(\n",
    "    f,\n",
    "    constrains,\n",
    "    noise,\n",
    "    n_init = n_init,\n",
    "    seed = 42,\n",
    "    dim = dim,\n",
    "    n = 40,\n",
    "    num_steps = 40,\n",
    "    lr = 0.01,\n",
    "    plot_figure = False)"
   ]
  },
  {
   "cell_type": "code",
   "execution_count": null,
   "metadata": {},
   "outputs": [],
   "source": [
    "optimizer_params.target"
   ]
  },
  {
   "cell_type": "code",
   "execution_count": null,
   "metadata": {},
   "outputs": [],
   "source": [
    "optimizer_params.params"
   ]
  }
 ],
 "metadata": {
  "kernelspec": {
   "display_name": "maenv",
   "language": "python",
   "name": "python3"
  },
  "language_info": {
   "codemirror_mode": {
    "name": "ipython",
    "version": 3
   },
   "file_extension": ".py",
   "mimetype": "text/x-python",
   "name": "python",
   "nbconvert_exporter": "python",
   "pygments_lexer": "ipython3",
   "version": "3.8.18"
  }
 },
 "nbformat": 4,
 "nbformat_minor": 2
}
