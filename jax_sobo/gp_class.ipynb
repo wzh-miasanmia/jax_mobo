{
 "cells": [
  {
   "cell_type": "code",
   "execution_count": null,
   "metadata": {},
   "outputs": [],
   "source": [
    "from GP_class import GaussianProcessRegressor\n",
    "import jax.numpy as jnp\n",
    "from jax import jacrev, jit, lax, random, tree_map, vmap"
   ]
  },
  {
   "cell_type": "code",
   "execution_count": null,
   "metadata": {},
   "outputs": [],
   "source": [
    "X = jnp.arange(-5, 5, 0.2).reshape(-1, 1)\n",
    "X_train = jnp.array([-4, -3, -2, -1, 1]).reshape(-1, 1)\n",
    "def f(x):\n",
    "    return jnp.sin(x)\n",
    "Y_train = vmap(f)(*X_train.T)\n",
    "gpr = GaussianProcessRegressor().fit(X_train, Y_train)"
   ]
  }
 ],
 "metadata": {
  "language_info": {
   "name": "python"
  }
 },
 "nbformat": 4,
 "nbformat_minor": 2
}
