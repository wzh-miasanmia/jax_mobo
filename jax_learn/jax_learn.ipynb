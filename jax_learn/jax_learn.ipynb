{
 "cells": [
  {
   "cell_type": "code",
   "execution_count": 2,
   "metadata": {},
   "outputs": [],
   "source": [
    "import jax.numpy as jnp\n",
    "from jax import grad, jit, vmap\n",
    "from jax import random\n",
    "from jax import device_put\n",
    "%matplotlib inline"
   ]
  },
  {
   "cell_type": "code",
   "execution_count": 3,
   "metadata": {},
   "outputs": [
    {
     "name": "stdout",
     "output_type": "stream",
     "text": [
      "1.57 ms ± 523 µs per loop (mean ± std. dev. of 7 runs, 1 loop each)\n"
     ]
    }
   ],
   "source": [
    "key = random.PRNGKey(0)\n",
    "\n",
    "def selu(x, alpha=1.67, lmbda=1.05):\n",
    "  return lmbda * jnp.where(x > 0, x, alpha * jnp.exp(x) - alpha)\n",
    "\n",
    "x = random.normal(key, (1000000,))\n",
    "%timeit selu(x).block_until_ready()"
   ]
  },
  {
   "cell_type": "markdown",
   "metadata": {},
   "source": [
    "key = random.PRNGKey(0): 这行代码创建了一个名为key的伪随机数生成器的实例，用于生成随机数。PRNGKey函数的参数0表示随机数种子。"
   ]
  },
  {
   "cell_type": "markdown",
   "metadata": {},
   "source": [
    "def selu(x, alpha=1.67, lmbda=1.05): 这是一个自定义函数selu，它接受输入x以及两个可选参数alpha和lmbda。selu函数实现了SELU激活函数，用于对输入x进行处理。"
   ]
  },
  {
   "cell_type": "markdown",
   "metadata": {},
   "source": [
    "x = random.normal(key, (1000000,)): 这一行使用key生成了一个包含1000000个随机数的数组x。这些随机数来自标准正态分布"
   ]
  },
  {
   "cell_type": "markdown",
   "metadata": {},
   "source": [
    "这是一个Jupyter Notebook中的魔法命令，用于测量selu(x)函数的执行时间。它会多次运行函数以获得平均执行时间。block_until_ready()用于确保计算已经完成。这个命令将测量调用selu(x)的运行时间。"
   ]
  },
  {
   "cell_type": "markdown",
   "metadata": {},
   "source": [
    "### 使用jit"
   ]
  },
  {
   "cell_type": "code",
   "execution_count": 4,
   "metadata": {},
   "outputs": [
    {
     "name": "stdout",
     "output_type": "stream",
     "text": [
      "1.15 ms ± 198 µs per loop (mean ± std. dev. of 7 runs, 1,000 loops each)\n"
     ]
    }
   ],
   "source": [
    "selu_jit = jit(selu)\n",
    "%timeit selu_jit(x).block_until_ready()"
   ]
  },
  {
   "cell_type": "markdown",
   "metadata": {},
   "source": [
    "### 使用grad()"
   ]
  },
  {
   "cell_type": "code",
   "execution_count": 6,
   "metadata": {},
   "outputs": [
    {
     "name": "stdout",
     "output_type": "stream",
     "text": [
      "[0. 1. 2. 3.]\n",
      "[0.25       0.19661194 0.10499357 0.04517666]\n"
     ]
    }
   ],
   "source": [
    "def sum_logistic(x):\n",
    "  return jnp.sum(1.0 / (1.0 + jnp.exp(-x)))\n",
    "\n",
    "x_small = jnp.arange(4.)\n",
    "print(x_small)\n",
    "derivative_fn = grad(sum_logistic) # 先得到导函数，而不是某点的导数\n",
    "print(derivative_fn(x_small))"
   ]
  },
  {
   "cell_type": "markdown",
   "metadata": {},
   "source": [
    "返回了在0 1 2 3四个点上的导数值大小"
   ]
  },
  {
   "cell_type": "markdown",
   "metadata": {},
   "source": [
    "![函数图像](sum_logistic_plot.png)"
   ]
  },
  {
   "cell_type": "markdown",
   "metadata": {},
   "source": [
    "grad() 和 jit() 可以任意混合使用。在上面的例子中，我们对 sum_logistic 进行了 jit，然后求出了它的导数。我们还可以更进一步："
   ]
  },
  {
   "cell_type": "code",
   "execution_count": 7,
   "metadata": {},
   "outputs": [
    {
     "name": "stdout",
     "output_type": "stream",
     "text": [
      "-0.0353256\n"
     ]
    }
   ],
   "source": [
    "print(grad(jit(grad(jit(grad(sum_logistic)))))(1.0))"
   ]
  },
  {
   "cell_type": "markdown",
   "metadata": {},
   "source": [
    "### 使用 vmap() 进行自动矢量化"
   ]
  },
  {
   "cell_type": "markdown",
   "metadata": {},
   "source": [
    "vmap() 是 JAX 库中的一个函数，用于对函数进行矢量化映射，特别适用于将函数应用于数组的每个元素，以便高效处理批量数据。它可以用于自动并行化操作，从而提高计算效率。\n",
    "基本语法：\n",
    "import jax.numpy as jnp\n",
    "from jax import vmap\n",
    "\n",
    "定义一个函数\n",
    "\n",
    "def my_function(x):\n",
    "    return ...  # 某些操作，可能依赖于 x\n",
    "\n",
    "\n",
    "使用 vmap() 对函数进行矢量化映射\n",
    "\n",
    "vectorized_function = vmap(my_function)\n",
    "\n",
    "对输入数组进行操作\n",
    "\n",
    "output_array = vectorized_function(input_array)"
   ]
  },
  {
   "cell_type": "markdown",
   "metadata": {},
   "source": []
  }
 ],
 "metadata": {
  "kernelspec": {
   "display_name": "maenv",
   "language": "python",
   "name": "python3"
  },
  "language_info": {
   "codemirror_mode": {
    "name": "ipython",
    "version": 3
   },
   "file_extension": ".py",
   "mimetype": "text/x-python",
   "name": "python",
   "nbconvert_exporter": "python",
   "pygments_lexer": "ipython3",
   "version": "3.8.18"
  }
 },
 "nbformat": 4,
 "nbformat_minor": 2
}
