{
 "cells": [
  {
   "cell_type": "markdown",
   "metadata": {},
   "source": [
    "import package"
   ]
  },
  {
   "cell_type": "code",
   "execution_count": 1,
   "metadata": {},
   "outputs": [],
   "source": [
    "import mobo_jax\n",
    "import jax.numpy as jnp"
   ]
  },
  {
   "cell_type": "markdown",
   "metadata": {},
   "source": [
    "1d case"
   ]
  },
  {
   "cell_type": "code",
   "execution_count": 8,
   "metadata": {},
   "outputs": [
    {
     "name": "stdout",
     "output_type": "stream",
     "text": [
      " #sample    target      X     \n",
      "    1     -0.168248  1.18946  \n",
      "    2     -0.465094  1.60758  \n",
      "    3      0.487031 -0.410686 \n",
      "    4      0.499072 -0.375443 \n",
      "    5      0.467009 -0.440127 \n",
      "    6     -0.683958  0.311895 \n",
      "    7      -1.55888     -1    \n",
      "    8      0.500072 -0.351769 \n",
      "    9      -2.32058     2     \n",
      "    10    -0.805378  0.759207 \n",
      "    11     0.101591 -0.045241 \n",
      "    12    -0.06861010.0295023 \n",
      "    13    -0.842634 -0.866738 \n",
      "    14    -0.915506  0.558597 \n",
      "    15    -0.648887  0.873817 \n",
      "    16    -0.472806  0.981086 \n",
      "    17    -0.902769  0.511142 \n",
      "    18    -0.165886  1.19172  \n",
      "    19     0.165274 -0.0751411\n",
      "    20     -2.30103  1.99683  \n",
      "    21    0.0815744 -0.640157 \n",
      "    22    -0.461914  0.987577 \n",
      "    23    -0.183541 -0.718032 \n",
      "    24    -0.537133 -0.802785 \n",
      "    25    -0.07047910.0302984 \n",
      "0.5000718832015991 {'X': Array(-0.35176885, dtype=float32)}\n"
     ]
    }
   ],
   "source": [
    "def f(X):\n",
    "    return -jnp.sin(3 * X) - X**2 + 0.7 * X\n",
    "\n",
    "constraints = {'X': (-1.0, 2.0)}\n",
    "optim_params = mobo_jax.optim(f, constraints=constraints, seed=42, n=20)\n",
    "\n",
    "mobo_jax.show_results(optim_params)\n",
    "print(optim_params.target, optim_params.params)"
   ]
  },
  {
   "cell_type": "code",
   "execution_count": 3,
   "metadata": {},
   "outputs": [
    {
     "data": {
      "text/plain": [
       "0.5000718832015991"
      ]
     },
     "execution_count": 3,
     "metadata": {},
     "output_type": "execute_result"
    }
   ],
   "source": [
    "optim_params.target"
   ]
  },
  {
   "cell_type": "markdown",
   "metadata": {},
   "source": [
    "2d case"
   ]
  },
  {
   "cell_type": "code",
   "execution_count": 5,
   "metadata": {},
   "outputs": [
    {
     "name": "stdout",
     "output_type": "stream",
     "text": [
      " #sample    target      x         y     \n",
      "    1      -4.79582  2.04166   -0.74239 \n",
      "    2      -23.2893 -0.435785  3.20545  \n",
      "    3      -16.0815  3.13147   -1.65649 \n",
      "    4      0.760071  0.39822   -1.23332 \n",
      "    5      -1.74374  1.97546   1.58337  \n",
      "    6      0.729293  0.323862  -1.61132 \n",
      "    7      0.813392  0.354369  -1.4107  \n",
      "    8      0.803995  0.358751  -1.40757 \n",
      "    9       1.8041  -0.335132  -1.28098 \n",
      "    10    -0.908934 -0.795993 -0.272841 \n",
      "    11     1.76391  -0.231052  -1.31016 \n",
      "    12     1.39235   -0.99934  -2.30896 \n",
      "    13     1.89202  -0.561467  -1.6745  \n",
      "    14     -6.56473  3.38406   3.84621  \n",
      "    15     0.556204    -1.5    -1.44586 \n",
      "    16     -13.5316  1.63599      4     \n",
      "    17     -4.50795     4      1.39004  \n",
      "    18     -1.97136  1.16427   0.528264 \n",
      "    19     -1.6885  -0.179569  -2.98213 \n",
      "    20     1.91314  -0.540638  -1.54958 \n",
      "    21     -13.079     -1.5    1.18126  \n",
      "    22     -9.46117   3.902   0.0371718 \n",
      "    23     -3.51592  3.78947    2.7436  \n",
      "    24      -14.2    1.97511   -2.96595 \n",
      "    25     -2.13876  2.59775   0.772849 \n",
      "    26     -34.6563   3.9577   -2.80098 \n",
      "    27     1.03271   -1.49755  -2.98108 \n",
      "    28     -42.847   -1.44841  3.95476  \n",
      "    29     -8.49235  0.364275  1.93257  \n",
      "    30     -3.45994  2.33637    2.7085  \n",
      "    31     -1.62388  3.11255   1.96031  \n",
      "    32     -25.7957  -1.44724  2.49314  \n",
      "    33     -1.08543  -1.44835 -0.717314 \n",
      "    34     -9.72785  1.03383   2.94612  \n",
      "    35     -2.20208  0.108897  0.34725  \n",
      "    36     -6.27912  0.867053  -2.99509 \n",
      "    37     -6.0527   3.91356   3.96818  \n",
      "    38     -20.717   0.588047  3.99455  \n",
      "    39     -6.16198   1.6619   -1.88724 \n",
      "    40     -2.20578 -0.854565 -0.0107336\n",
      "    41     -6.91572  -1.43202  0.44005  \n",
      "    42     -7.78133  1.93276   3.37346  \n",
      "    43     -2.32395  1.71501  0.0325503 \n",
      "    44     -23.834  -0.789306  2.89266  \n",
      "    45     -1.4487   2.65959   1.23043  \n"
     ]
    }
   ],
   "source": [
    "def mccormick_function(x, y):\n",
    "    return - (jnp.sin(x + y) + (x - y)**2 - 1.5*x + 2.5*y + 1)\n",
    "\n",
    "constraints = {'x': (-1.5, 4), 'y': (-3, 4)}\n",
    "optim_params = mobo_jax.optim(mccormick_function, constraints=constraints, seed=42, n=40)\n",
    "\n",
    "mobo_jax.show_results(optim_params)"
   ]
  },
  {
   "cell_type": "code",
   "execution_count": 6,
   "metadata": {},
   "outputs": [
    {
     "data": {
      "text/plain": [
       "1.913135290145874"
      ]
     },
     "execution_count": 6,
     "metadata": {},
     "output_type": "execute_result"
    }
   ],
   "source": [
    "optim_params.target"
   ]
  },
  {
   "cell_type": "code",
   "execution_count": 7,
   "metadata": {},
   "outputs": [
    {
     "data": {
      "text/plain": [
       "{'x': Array(-0.54063773, dtype=float32), 'y': Array(-1.5495783, dtype=float32)}"
      ]
     },
     "execution_count": 7,
     "metadata": {},
     "output_type": "execute_result"
    }
   ],
   "source": [
    "optim_params.params"
   ]
  },
  {
   "cell_type": "code",
   "execution_count": null,
   "metadata": {},
   "outputs": [
    {
     "data": {
      "application/vnd.plotly.v1+json": {
       "config": {
        "plotlyServerURL": "https://plot.ly"
       },
       "data": [
        {
         "marker": {
          "color": [
           1,
           2,
           3,
           4,
           5,
           6,
           7,
           8,
           9,
           10,
           11,
           12,
           13,
           14,
           15,
           16,
           17,
           18,
           19,
           20,
           21,
           22,
           23,
           24,
           25
          ],
          "colorbar": {
           "title": {
            "text": "iterations"
           }
          },
          "colorscale": [
           [
            0,
            "#440154"
           ],
           [
            0.1111111111111111,
            "#482878"
           ],
           [
            0.2222222222222222,
            "#3e4989"
           ],
           [
            0.3333333333333333,
            "#31688e"
           ],
           [
            0.4444444444444444,
            "#26828e"
           ],
           [
            0.5555555555555556,
            "#1f9e89"
           ],
           [
            0.6666666666666666,
            "#35b779"
           ],
           [
            0.7777777777777778,
            "#6ece58"
           ],
           [
            0.8888888888888888,
            "#b5de2b"
           ],
           [
            1,
            "#fde725"
           ]
          ],
          "opacity": 0.8,
          "size": 5
         },
         "mode": "markers",
         "text": [
          "1",
          "2",
          "3",
          "4",
          "5",
          "6",
          "7",
          "8",
          "9",
          "10",
          "11",
          "12",
          "13",
          "14",
          "15",
          "16",
          "17",
          "18",
          "19",
          "20",
          "21",
          "22",
          "23",
          "24",
          "25"
         ],
         "type": "scatter3d",
         "x": [
          2.0416574478149414,
          -0.43578457832336426,
          3.1314687728881836,
          0.3982200622558594,
          1.9754576683044434,
          0.32386189699172974,
          0.354368656873703,
          0.35875117778778076,
          -0.3351323902606964,
          -0.7959927320480347,
          -0.23105168342590332,
          -0.9993400573730469,
          -0.5614668726921082,
          3.384060859680176,
          -1.5,
          1.6359888315200806,
          4,
          1.1642717123031616,
          -0.1795692890882492,
          -0.540637731552124,
          -1.5,
          3.902001142501831,
          3.7894654273986816,
          1.9751112461090088,
          2.5977535247802734,
          3.9576973915100098,
          -1.497553825378418,
          -1.4484055042266846,
          0.3642745018005371,
          2.3363728523254395,
          3.1125497817993164,
          -1.4472436904907227,
          -1.448349118232727,
          1.0338337421417236,
          0.10889697074890137,
          0.8670532703399658,
          3.9135642051696777,
          0.5880467891693115,
          1.6618983745574951,
          -0.8545652627944946,
          -1.4320247173309326,
          1.9327642917633057,
          1.715012550354004,
          -0.7893063426017761,
          2.6595916748046875
         ],
         "y": [
          -0.7423899173736572,
          3.205453395843506,
          -1.656489610671997,
          -1.2333182096481323,
          1.5833740234375,
          -1.6113187074661255,
          -1.4106991291046143,
          -1.4075714349746704,
          -1.2809813022613525,
          -0.2728410065174103,
          -1.3101575374603271,
          -2.308960437774658,
          -1.6745046377182007,
          3.8462095260620117,
          -1.4458600282669067,
          4,
          1.390036940574646,
          0.5282641649246216,
          -2.9821345806121826,
          -1.549578309059143,
          1.1812636852264404,
          0.037171781063079834,
          2.743598461151123,
          -2.9659457206726074,
          0.7728490829467773,
          -2.8009843826293945,
          -2.981083393096924,
          3.954756259918213,
          1.9325666427612305,
          2.708500862121582,
          1.9603090286254883,
          2.4931397438049316,
          -0.7173142433166504,
          2.9461216926574707,
          0.34724950790405273,
          -2.995089054107666,
          3.9681777954101562,
          3.9945549964904785,
          -1.8872358798980713,
          -0.010733604431152344,
          0.4400503635406494,
          3.373464584350586,
          0.03255033493041992,
          2.892660617828369,
          1.2304282188415527
         ],
         "z": [
          -4.795821189880371,
          -23.28933334350586,
          -16.08152961730957,
          0.76007080078125,
          -1.7437403202056885,
          0.729292631149292,
          0.813391923904419,
          0.8039953708648682,
          1.8040976524353027,
          -0.9089342951774597,
          1.7639093399047852,
          1.3923485279083252,
          1.892016887664795,
          -6.564730644226074,
          0.5562043190002441,
          -13.53161334991455,
          -4.507949352264404,
          -1.9713573455810547,
          -1.6884994506835938,
          1.913135290145874,
          -13.078968048095703,
          -9.461165428161621,
          -3.5159220695495605,
          -14.200032234191895,
          -2.1387553215026855,
          -34.65625762939453,
          1.0327129364013672,
          -42.84703063964844,
          -8.492351531982422,
          -3.4599380493164062,
          -1.623875617980957,
          -25.795711517333984,
          -1.0854270458221436,
          -9.727849006652832,
          -2.2020821571350098,
          -6.279122352600098,
          -6.0526957511901855,
          -20.717025756835938,
          -6.161981105804443,
          -2.2057766914367676,
          -6.915720462799072,
          -7.781333923339844,
          -2.323953628540039,
          -23.834003448486328,
          -1.4487040042877197
         ]
        }
       ],
       "layout": {
        "height": 600,
        "scene": {
         "xaxis": {
          "title": {
           "text": "X"
          }
         },
         "yaxis": {
          "title": {
           "text": "Y"
          }
         },
         "zaxis": {
          "title": {
           "text": "Target"
          }
         }
        },
        "template": {
         "data": {
          "bar": [
           {
            "error_x": {
             "color": "#2a3f5f"
            },
            "error_y": {
             "color": "#2a3f5f"
            },
            "marker": {
             "line": {
              "color": "#E5ECF6",
              "width": 0.5
             },
             "pattern": {
              "fillmode": "overlay",
              "size": 10,
              "solidity": 0.2
             }
            },
            "type": "bar"
           }
          ],
          "barpolar": [
           {
            "marker": {
             "line": {
              "color": "#E5ECF6",
              "width": 0.5
             },
             "pattern": {
              "fillmode": "overlay",
              "size": 10,
              "solidity": 0.2
             }
            },
            "type": "barpolar"
           }
          ],
          "carpet": [
           {
            "aaxis": {
             "endlinecolor": "#2a3f5f",
             "gridcolor": "white",
             "linecolor": "white",
             "minorgridcolor": "white",
             "startlinecolor": "#2a3f5f"
            },
            "baxis": {
             "endlinecolor": "#2a3f5f",
             "gridcolor": "white",
             "linecolor": "white",
             "minorgridcolor": "white",
             "startlinecolor": "#2a3f5f"
            },
            "type": "carpet"
           }
          ],
          "choropleth": [
           {
            "colorbar": {
             "outlinewidth": 0,
             "ticks": ""
            },
            "type": "choropleth"
           }
          ],
          "contour": [
           {
            "colorbar": {
             "outlinewidth": 0,
             "ticks": ""
            },
            "colorscale": [
             [
              0,
              "#0d0887"
             ],
             [
              0.1111111111111111,
              "#46039f"
             ],
             [
              0.2222222222222222,
              "#7201a8"
             ],
             [
              0.3333333333333333,
              "#9c179e"
             ],
             [
              0.4444444444444444,
              "#bd3786"
             ],
             [
              0.5555555555555556,
              "#d8576b"
             ],
             [
              0.6666666666666666,
              "#ed7953"
             ],
             [
              0.7777777777777778,
              "#fb9f3a"
             ],
             [
              0.8888888888888888,
              "#fdca26"
             ],
             [
              1,
              "#f0f921"
             ]
            ],
            "type": "contour"
           }
          ],
          "contourcarpet": [
           {
            "colorbar": {
             "outlinewidth": 0,
             "ticks": ""
            },
            "type": "contourcarpet"
           }
          ],
          "heatmap": [
           {
            "colorbar": {
             "outlinewidth": 0,
             "ticks": ""
            },
            "colorscale": [
             [
              0,
              "#0d0887"
             ],
             [
              0.1111111111111111,
              "#46039f"
             ],
             [
              0.2222222222222222,
              "#7201a8"
             ],
             [
              0.3333333333333333,
              "#9c179e"
             ],
             [
              0.4444444444444444,
              "#bd3786"
             ],
             [
              0.5555555555555556,
              "#d8576b"
             ],
             [
              0.6666666666666666,
              "#ed7953"
             ],
             [
              0.7777777777777778,
              "#fb9f3a"
             ],
             [
              0.8888888888888888,
              "#fdca26"
             ],
             [
              1,
              "#f0f921"
             ]
            ],
            "type": "heatmap"
           }
          ],
          "heatmapgl": [
           {
            "colorbar": {
             "outlinewidth": 0,
             "ticks": ""
            },
            "colorscale": [
             [
              0,
              "#0d0887"
             ],
             [
              0.1111111111111111,
              "#46039f"
             ],
             [
              0.2222222222222222,
              "#7201a8"
             ],
             [
              0.3333333333333333,
              "#9c179e"
             ],
             [
              0.4444444444444444,
              "#bd3786"
             ],
             [
              0.5555555555555556,
              "#d8576b"
             ],
             [
              0.6666666666666666,
              "#ed7953"
             ],
             [
              0.7777777777777778,
              "#fb9f3a"
             ],
             [
              0.8888888888888888,
              "#fdca26"
             ],
             [
              1,
              "#f0f921"
             ]
            ],
            "type": "heatmapgl"
           }
          ],
          "histogram": [
           {
            "marker": {
             "pattern": {
              "fillmode": "overlay",
              "size": 10,
              "solidity": 0.2
             }
            },
            "type": "histogram"
           }
          ],
          "histogram2d": [
           {
            "colorbar": {
             "outlinewidth": 0,
             "ticks": ""
            },
            "colorscale": [
             [
              0,
              "#0d0887"
             ],
             [
              0.1111111111111111,
              "#46039f"
             ],
             [
              0.2222222222222222,
              "#7201a8"
             ],
             [
              0.3333333333333333,
              "#9c179e"
             ],
             [
              0.4444444444444444,
              "#bd3786"
             ],
             [
              0.5555555555555556,
              "#d8576b"
             ],
             [
              0.6666666666666666,
              "#ed7953"
             ],
             [
              0.7777777777777778,
              "#fb9f3a"
             ],
             [
              0.8888888888888888,
              "#fdca26"
             ],
             [
              1,
              "#f0f921"
             ]
            ],
            "type": "histogram2d"
           }
          ],
          "histogram2dcontour": [
           {
            "colorbar": {
             "outlinewidth": 0,
             "ticks": ""
            },
            "colorscale": [
             [
              0,
              "#0d0887"
             ],
             [
              0.1111111111111111,
              "#46039f"
             ],
             [
              0.2222222222222222,
              "#7201a8"
             ],
             [
              0.3333333333333333,
              "#9c179e"
             ],
             [
              0.4444444444444444,
              "#bd3786"
             ],
             [
              0.5555555555555556,
              "#d8576b"
             ],
             [
              0.6666666666666666,
              "#ed7953"
             ],
             [
              0.7777777777777778,
              "#fb9f3a"
             ],
             [
              0.8888888888888888,
              "#fdca26"
             ],
             [
              1,
              "#f0f921"
             ]
            ],
            "type": "histogram2dcontour"
           }
          ],
          "mesh3d": [
           {
            "colorbar": {
             "outlinewidth": 0,
             "ticks": ""
            },
            "type": "mesh3d"
           }
          ],
          "parcoords": [
           {
            "line": {
             "colorbar": {
              "outlinewidth": 0,
              "ticks": ""
             }
            },
            "type": "parcoords"
           }
          ],
          "pie": [
           {
            "automargin": true,
            "type": "pie"
           }
          ],
          "scatter": [
           {
            "fillpattern": {
             "fillmode": "overlay",
             "size": 10,
             "solidity": 0.2
            },
            "type": "scatter"
           }
          ],
          "scatter3d": [
           {
            "line": {
             "colorbar": {
              "outlinewidth": 0,
              "ticks": ""
             }
            },
            "marker": {
             "colorbar": {
              "outlinewidth": 0,
              "ticks": ""
             }
            },
            "type": "scatter3d"
           }
          ],
          "scattercarpet": [
           {
            "marker": {
             "colorbar": {
              "outlinewidth": 0,
              "ticks": ""
             }
            },
            "type": "scattercarpet"
           }
          ],
          "scattergeo": [
           {
            "marker": {
             "colorbar": {
              "outlinewidth": 0,
              "ticks": ""
             }
            },
            "type": "scattergeo"
           }
          ],
          "scattergl": [
           {
            "marker": {
             "colorbar": {
              "outlinewidth": 0,
              "ticks": ""
             }
            },
            "type": "scattergl"
           }
          ],
          "scattermapbox": [
           {
            "marker": {
             "colorbar": {
              "outlinewidth": 0,
              "ticks": ""
             }
            },
            "type": "scattermapbox"
           }
          ],
          "scatterpolar": [
           {
            "marker": {
             "colorbar": {
              "outlinewidth": 0,
              "ticks": ""
             }
            },
            "type": "scatterpolar"
           }
          ],
          "scatterpolargl": [
           {
            "marker": {
             "colorbar": {
              "outlinewidth": 0,
              "ticks": ""
             }
            },
            "type": "scatterpolargl"
           }
          ],
          "scatterternary": [
           {
            "marker": {
             "colorbar": {
              "outlinewidth": 0,
              "ticks": ""
             }
            },
            "type": "scatterternary"
           }
          ],
          "surface": [
           {
            "colorbar": {
             "outlinewidth": 0,
             "ticks": ""
            },
            "colorscale": [
             [
              0,
              "#0d0887"
             ],
             [
              0.1111111111111111,
              "#46039f"
             ],
             [
              0.2222222222222222,
              "#7201a8"
             ],
             [
              0.3333333333333333,
              "#9c179e"
             ],
             [
              0.4444444444444444,
              "#bd3786"
             ],
             [
              0.5555555555555556,
              "#d8576b"
             ],
             [
              0.6666666666666666,
              "#ed7953"
             ],
             [
              0.7777777777777778,
              "#fb9f3a"
             ],
             [
              0.8888888888888888,
              "#fdca26"
             ],
             [
              1,
              "#f0f921"
             ]
            ],
            "type": "surface"
           }
          ],
          "table": [
           {
            "cells": {
             "fill": {
              "color": "#EBF0F8"
             },
             "line": {
              "color": "white"
             }
            },
            "header": {
             "fill": {
              "color": "#C8D4E3"
             },
             "line": {
              "color": "white"
             }
            },
            "type": "table"
           }
          ]
         },
         "layout": {
          "annotationdefaults": {
           "arrowcolor": "#2a3f5f",
           "arrowhead": 0,
           "arrowwidth": 1
          },
          "autotypenumbers": "strict",
          "coloraxis": {
           "colorbar": {
            "outlinewidth": 0,
            "ticks": ""
           }
          },
          "colorscale": {
           "diverging": [
            [
             0,
             "#8e0152"
            ],
            [
             0.1,
             "#c51b7d"
            ],
            [
             0.2,
             "#de77ae"
            ],
            [
             0.3,
             "#f1b6da"
            ],
            [
             0.4,
             "#fde0ef"
            ],
            [
             0.5,
             "#f7f7f7"
            ],
            [
             0.6,
             "#e6f5d0"
            ],
            [
             0.7,
             "#b8e186"
            ],
            [
             0.8,
             "#7fbc41"
            ],
            [
             0.9,
             "#4d9221"
            ],
            [
             1,
             "#276419"
            ]
           ],
           "sequential": [
            [
             0,
             "#0d0887"
            ],
            [
             0.1111111111111111,
             "#46039f"
            ],
            [
             0.2222222222222222,
             "#7201a8"
            ],
            [
             0.3333333333333333,
             "#9c179e"
            ],
            [
             0.4444444444444444,
             "#bd3786"
            ],
            [
             0.5555555555555556,
             "#d8576b"
            ],
            [
             0.6666666666666666,
             "#ed7953"
            ],
            [
             0.7777777777777778,
             "#fb9f3a"
            ],
            [
             0.8888888888888888,
             "#fdca26"
            ],
            [
             1,
             "#f0f921"
            ]
           ],
           "sequentialminus": [
            [
             0,
             "#0d0887"
            ],
            [
             0.1111111111111111,
             "#46039f"
            ],
            [
             0.2222222222222222,
             "#7201a8"
            ],
            [
             0.3333333333333333,
             "#9c179e"
            ],
            [
             0.4444444444444444,
             "#bd3786"
            ],
            [
             0.5555555555555556,
             "#d8576b"
            ],
            [
             0.6666666666666666,
             "#ed7953"
            ],
            [
             0.7777777777777778,
             "#fb9f3a"
            ],
            [
             0.8888888888888888,
             "#fdca26"
            ],
            [
             1,
             "#f0f921"
            ]
           ]
          },
          "colorway": [
           "#636efa",
           "#EF553B",
           "#00cc96",
           "#ab63fa",
           "#FFA15A",
           "#19d3f3",
           "#FF6692",
           "#B6E880",
           "#FF97FF",
           "#FECB52"
          ],
          "font": {
           "color": "#2a3f5f"
          },
          "geo": {
           "bgcolor": "white",
           "lakecolor": "white",
           "landcolor": "#E5ECF6",
           "showlakes": true,
           "showland": true,
           "subunitcolor": "white"
          },
          "hoverlabel": {
           "align": "left"
          },
          "hovermode": "closest",
          "mapbox": {
           "style": "light"
          },
          "paper_bgcolor": "white",
          "plot_bgcolor": "#E5ECF6",
          "polar": {
           "angularaxis": {
            "gridcolor": "white",
            "linecolor": "white",
            "ticks": ""
           },
           "bgcolor": "#E5ECF6",
           "radialaxis": {
            "gridcolor": "white",
            "linecolor": "white",
            "ticks": ""
           }
          },
          "scene": {
           "xaxis": {
            "backgroundcolor": "#E5ECF6",
            "gridcolor": "white",
            "gridwidth": 2,
            "linecolor": "white",
            "showbackground": true,
            "ticks": "",
            "zerolinecolor": "white"
           },
           "yaxis": {
            "backgroundcolor": "#E5ECF6",
            "gridcolor": "white",
            "gridwidth": 2,
            "linecolor": "white",
            "showbackground": true,
            "ticks": "",
            "zerolinecolor": "white"
           },
           "zaxis": {
            "backgroundcolor": "#E5ECF6",
            "gridcolor": "white",
            "gridwidth": 2,
            "linecolor": "white",
            "showbackground": true,
            "ticks": "",
            "zerolinecolor": "white"
           }
          },
          "shapedefaults": {
           "line": {
            "color": "#2a3f5f"
           }
          },
          "ternary": {
           "aaxis": {
            "gridcolor": "white",
            "linecolor": "white",
            "ticks": ""
           },
           "baxis": {
            "gridcolor": "white",
            "linecolor": "white",
            "ticks": ""
           },
           "bgcolor": "#E5ECF6",
           "caxis": {
            "gridcolor": "white",
            "linecolor": "white",
            "ticks": ""
           }
          },
          "title": {
           "x": 0.05
          },
          "xaxis": {
           "automargin": true,
           "gridcolor": "white",
           "linecolor": "white",
           "ticks": "",
           "title": {
            "standoff": 15
           },
           "zerolinecolor": "white",
           "zerolinewidth": 2
          },
          "yaxis": {
           "automargin": true,
           "gridcolor": "white",
           "linecolor": "white",
           "ticks": "",
           "title": {
            "standoff": 15
           },
           "zerolinecolor": "white",
           "zerolinewidth": 2
          }
         }
        },
        "title": {
         "text": "Two-dimensional Scatter Plot"
        },
        "width": 800
       }
      }
     },
     "metadata": {},
     "output_type": "display_data"
    }
   ],
   "source": [
    "mobo_jax.plot2d(optim_params, n_init=5, n=20)"
   ]
  },
  {
   "cell_type": "code",
   "execution_count": null,
   "metadata": {},
   "outputs": [],
   "source": []
  }
 ],
 "metadata": {
  "kernelspec": {
   "display_name": "maenv",
   "language": "python",
   "name": "python3"
  },
  "language_info": {
   "codemirror_mode": {
    "name": "ipython",
    "version": 3
   },
   "file_extension": ".py",
   "mimetype": "text/x-python",
   "name": "python",
   "nbconvert_exporter": "python",
   "pygments_lexer": "ipython3",
   "version": "3.9.18"
  }
 },
 "nbformat": 4,
 "nbformat_minor": 2
}
